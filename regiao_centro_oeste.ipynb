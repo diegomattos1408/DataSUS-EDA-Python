{
 "cells": [
  {
   "cell_type": "markdown",
   "id": "0db5c1bc-e252-4dba-8db8-5ba4d0e0e065",
   "metadata": {},
   "source": [
    "# Região Centro Oeste PA Janeiro de 2023"
   ]
  },
  {
   "cell_type": "markdown",
   "id": "7dd77235-cc82-45c5-bcbb-094794a6bbf1",
   "metadata": {},
   "source": [
    "### Reading the files"
   ]
  },
  {
   "cell_type": "code",
   "execution_count": null,
   "id": "43b196d6-271a-45ba-b638-c08d7c3da0f8",
   "metadata": {},
   "outputs": [],
   "source": [
    "import pandas as pd\n",
    "import matplotlib.pyplot as plt\n",
    "import numpy as np\n",
    "\n",
    "df_go = pd.read_csv('csv/PAGO2301.csv')\n",
    "df_go.head()"
   ]
  },
  {
   "cell_type": "code",
   "execution_count": null,
   "id": "4c22ad06-fa8b-4b73-bd70-bc3da7525a4b",
   "metadata": {},
   "outputs": [],
   "source": [
    "df_df = pd.read_csv('csv/PADF2301.csv')\n",
    "df_go.head()"
   ]
  },
  {
   "cell_type": "code",
   "execution_count": null,
   "id": "507588d9-1390-43e3-b562-dfc561951b6f",
   "metadata": {},
   "outputs": [],
   "source": [
    "df_ms = pd.read_csv('csv/PAMS2301.csv', encoding='ISO-8859-1')\n",
    "df_ms.head()"
   ]
  },
  {
   "cell_type": "code",
   "execution_count": null,
   "id": "b7062a52-e742-4b57-bd98-3010ef57074d",
   "metadata": {},
   "outputs": [],
   "source": [
    "df_mt = pd.read_csv('csv/PAMT2301.csv', encoding='ISO-8859-1')\n",
    "df_mt.head()"
   ]
  },
  {
   "cell_type": "markdown",
   "id": "c76cd323-34fa-43ff-a8f7-c969dbdeafd2",
   "metadata": {},
   "source": [
    "### Merging the data of PA_CIDPRI in one dataset with the 4 states"
   ]
  },
  {
   "cell_type": "code",
   "execution_count": null,
   "id": "4d74dab3-182a-4fc9-9da1-0ccb4f3beca4",
   "metadata": {},
   "outputs": [],
   "source": [
    "# Calculate the frequency of each unique value in the PA_CIDPRI column for each dataframe\n",
    "freq_go = df_go['PA_CIDPRI'].value_counts().reset_index()\n",
    "freq_go.columns = ['PA_CIDPRI', 'Frequency_GO']\n",
    "\n",
    "freq_ms = df_ms['PA_CIDPRI'].value_counts().reset_index()\n",
    "freq_ms.columns = ['PA_CIDPRI', 'Frequency_MS']\n",
    "\n",
    "freq_mt = df_mt['PA_CIDPRI'].value_counts().reset_index()\n",
    "freq_mt.columns = ['PA_CIDPRI', 'Frequency_MT']\n",
    "\n",
    "freq_df = df_df['PA_CIDPRI'].value_counts().reset_index()\n",
    "freq_df.columns = ['PA_CIDPRI', 'Frequency_DF']\n",
    "\n",
    "# Step 2: Merge the frequency dataframes on PA_CIDPRI\n",
    "df_região_centro_oeste = freq_go.merge(freq_ms, on='PA_CIDPRI', how='outer') \\\n",
    "                .merge(freq_mt, on='PA_CIDPRI', how='outer') \\\n",
    "                .merge(freq_df, on='PA_CIDPRI', how='outer')\n",
    "\n",
    "# Rename columns\n",
    "df_região_centro_oeste.columns = ['PA_CIDPRI', 'Goiás', 'Mato Grosso do Sul', 'Mato Grosso', 'Distrito Federal']\n",
    "\n",
    "# Fill NaN with 0s for accurate frequency calculations\n",
    "df_região_centro_oeste.fillna(0, inplace=True)\n",
    "\n",
    "# Calculate the Total Frequency\n",
    "df_região_centro_oeste['Total Frequency'] = df_região_centro_oeste[['Goiás', 'Mato Grosso do Sul', 'Mato Grosso', 'Distrito Federal']].sum(axis=1)\n",
    "\n",
    "df_região_centro_oeste = df_região_centro_oeste.sort_values(by='Total Frequency', ascending=False)\n",
    "\n",
    "df_região_centro_oeste.head()"
   ]
  },
  {
   "cell_type": "markdown",
   "id": "5c98b510-c2f2-4044-8b96-286a67bc651c",
   "metadata": {},
   "source": [
    "### Frequency of the first 5 rows excluding the 0000"
   ]
  },
  {
   "cell_type": "code",
   "execution_count": null,
   "id": "57fe70cb-330b-42bc-a26f-1f8c4469968c",
   "metadata": {},
   "outputs": [],
   "source": [
    "# Ensure PA_CIDPRI is of type string\n",
    "df_região_centro_oeste['PA_CIDPRI'] = df_região_centro_oeste['PA_CIDPRI'].astype(str)\n",
    "\n",
    "# Exclude the first row and then retrieve the top 5 rows\n",
    "top5_excluding_first = df_região_centro_oeste.iloc[1:6]\n",
    "\n",
    "# Now plotting the bar chart\n",
    "plt.figure(figsize=(10, 6))\n",
    "plt.bar(top5_excluding_first['PA_CIDPRI'], top5_excluding_first['Total Frequency'], color='skyblue')\n",
    "plt.title('Top 5 PA_CIDPRI Codes by Total Occurrences (Excluding the 0000)')\n",
    "plt.xlabel('PA_CIDPRI Code')\n",
    "plt.ylabel('Total Occurrences')\n",
    "plt.xticks(rotation=45)\n",
    "plt.show()"
   ]
  },
  {
   "cell_type": "markdown",
   "id": "7ef83062-5e0f-4370-af4d-74b9980380b3",
   "metadata": {},
   "source": [
    "### Pie Chart of the N180"
   ]
  },
  {
   "cell_type": "code",
   "execution_count": null,
   "id": "48844b82-7d22-4353-a5c7-18ed5c7f5c6e",
   "metadata": {},
   "outputs": [],
   "source": [
    "from matplotlib import pyplot as plt\n",
    "\n",
    "# Filter out the 'N180' row\n",
    "df_n180_row = df_região_centro_oeste[df_região_centro_oeste['PA_CIDPRI'] == 'N180']\n",
    "\n",
    "# Drop 'PA_CIDPRI' and 'Total Frequency' columns\n",
    "df_n180_data = df_n180_row.drop(columns=['PA_CIDPRI', 'Total Frequency'])\n",
    "\n",
    "# Now we can plot the pie chart\n",
    "fig, ax = plt.subplots()\n",
    "ax.pie(df_n180_data.iloc[0], labels=df_n180_data.columns, autopct='%1.1f%%', startangle=90)\n",
    "ax.axis('equal')  # Equal aspect ratio ensures that pie chart is drawn as a circle.\n",
    "\n",
    "# Set the title of the pie chart\n",
    "plt.title('Pie Chart for N180')\n",
    "\n",
    "# Display the pie chart\n",
    "plt.show()"
   ]
  },
  {
   "cell_type": "code",
   "execution_count": null,
   "id": "5ac08828-9ec2-4e27-9a19-7e007ed7425c",
   "metadata": {},
   "outputs": [],
   "source": [
    "# Filter each DataFrame for 'N180' in 'PA_CIDPRI'\n",
    "filtered_df = df_df[df_df['PA_CIDPRI'] == 'N180']\n",
    "filtered_go = df_go[df_go['PA_CIDPRI'] == 'N180']\n",
    "filtered_ms = df_ms[df_ms['PA_CIDPRI'] == 'N180']\n",
    "filtered_mt = df_mt[df_mt['PA_CIDPRI'] == 'N180']\n",
    "\n",
    "# Calculate the frequency of 'PA_IDADE' for each filtered DataFrame\n",
    "freq_df = filtered_df['PA_IDADE'].value_counts().rename('DF')\n",
    "freq_go = filtered_go['PA_IDADE'].value_counts().rename('GO')\n",
    "freq_ms = filtered_ms['PA_IDADE'].value_counts().rename('MS')\n",
    "freq_mt = filtered_mt['PA_IDADE'].value_counts().rename('MT')\n",
    "\n",
    "# Merge the frequencies into a single DataFrame\n",
    "freq_merged = pd.concat([freq_df, freq_go, freq_ms, freq_mt], axis=1, sort=False)\n",
    "\n",
    "# Fill NaN values with 0 to indicate no occurrences for that age in a specific dataset\n",
    "freq_merged = freq_merged.fillna(0).astype(int)\n",
    "\n",
    "# Resetting the index to make the current index a column\n",
    "freq_merged = freq_merged.reset_index()\n",
    "\n",
    "# Renaming the new column to 'Age'\n",
    "freq_merged.rename(columns={'index': 'Age'}, inplace=True)\n",
    "\n",
    "freq_merged.head()"
   ]
  },
  {
   "cell_type": "markdown",
   "id": "0f18b694-3d9b-4191-b559-72c756849de2",
   "metadata": {},
   "source": [
    "### Calculating weighted average age for each state"
   ]
  },
  {
   "cell_type": "code",
   "execution_count": null,
   "id": "96c9f98f-9198-4930-929e-e6b90e21d8cb",
   "metadata": {},
   "outputs": [],
   "source": [
    "weights = freq_merged['Age']\n",
    "df_average = (freq_merged['DF'] * weights).sum() / freq_merged['DF'].sum()\n",
    "go_average = (freq_merged['GO'] * weights).sum() / freq_merged['GO'].sum()\n",
    "ms_average = (freq_merged['MS'] * weights).sum() / freq_merged['MS'].sum()\n",
    "mt_average = (freq_merged['MT'] * weights).sum() / freq_merged['MT'].sum()\n",
    "\n",
    "# Consolidating the averages into a dictionary for easier plotting\n",
    "state_averages = {\n",
    "    'DF': df_average,\n",
    "    'GO': go_average,\n",
    "    'MS': ms_average,\n",
    "    'MT': mt_average\n",
    "}"
   ]
  },
  {
   "cell_type": "markdown",
   "id": "8cf55529-c42b-4c08-b4e9-2deda30ed4c9",
   "metadata": {},
   "source": [
    "### Plotting the bar chart of weighted average ages"
   ]
  },
  {
   "cell_type": "code",
   "execution_count": null,
   "id": "d7446f5b-1533-48a3-a033-33e76b8a40de",
   "metadata": {},
   "outputs": [],
   "source": [
    "states = list(state_averages.keys())\n",
    "averages = list(state_averages.values())\n",
    "\n",
    "plt.figure(figsize=(10, 6))\n",
    "plt.bar(states, averages, color=['blue', 'green', 'red', 'orange'])\n",
    "\n",
    "plt.title('Weighted Average Age for N180 Diagnosis by State')\n",
    "plt.xlabel('State')\n",
    "plt.ylabel('Weighted Average Age')\n",
    "plt.xticks(states)\n",
    "\n",
    "for i, avg in enumerate(averages):\n",
    "    plt.text(i, avg + 0.5, f\"{avg:.2f}\", ha = 'center')\n",
    "\n",
    "plt.show()"
   ]
  },
  {
   "cell_type": "markdown",
   "id": "2cf45d93-4204-408f-b90c-8caf7b5cb018",
   "metadata": {},
   "source": [
    "### Exporting to a csv file"
   ]
  },
  {
   "cell_type": "code",
   "execution_count": null,
   "id": "bbb1abf9-0937-4c75-9af9-cb65e6e4e083",
   "metadata": {},
   "outputs": [],
   "source": [
    "# Specify the file name\n",
    "file_name = 'regiao_centro_oeste_pa.csv'\n",
    "\n",
    "# Export the DataFrame to a CSV file\n",
    "df_região_centro_oeste.to_csv(file_name, index=False)  # Set index=False to avoid writing row indices\n",
    "\n",
    "print(f\"DataFrame exported to {file_name}\")"
   ]
  }
 ],
 "metadata": {
  "kernelspec": {
   "display_name": "Python 3 (Spyder)",
   "language": "python3",
   "name": "python3"
  },
  "language_info": {
   "codemirror_mode": {
    "name": "ipython",
    "version": 3
   },
   "file_extension": ".py",
   "mimetype": "text/x-python",
   "name": "python",
   "nbconvert_exporter": "python",
   "pygments_lexer": "ipython3",
   "version": "3.11.4"
  }
 },
 "nbformat": 4,
 "nbformat_minor": 5
}
