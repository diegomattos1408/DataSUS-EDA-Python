{
 "cells": [
  {
   "cell_type": "markdown",
   "id": "961a2849-66f4-4d12-9081-f7eb1f361bef",
   "metadata": {},
   "source": [
    "## Converting all the PA Codes"
   ]
  },
  {
   "cell_type": "markdown",
   "id": "a8e65544-dddd-40cc-903c-3a4a44e8e3b1",
   "metadata": {},
   "source": [
    "### Reading the file"
   ]
  },
  {
   "cell_type": "code",
   "execution_count": null,
   "id": "1e198462-57d4-4ff4-b08c-331240f7cfa8",
   "metadata": {},
   "outputs": [],
   "source": [
    "import csv\n",
    "\n",
    "file_path = 'csv/códigos_pa.txt'  \n",
    "output_csv_path = 'csv/codigos_pa.csv' \n",
    "\n",
    "# Reading the content of the uploaded file\n",
    "with open(file_path, 'r', encoding='utf-8') as file:\n",
    "    lines = file.readlines()\n",
    "\n",
    "# Preparing data for CSV format\n",
    "csv_data = [line.strip().split('; ') for line in lines]\n",
    "\n",
    "# Writing to a CSV file\n",
    "with open(output_csv_path, 'w', newline='', encoding='utf-8') as csvfile:\n",
    "    csvwriter = csv.writer(csvfile)\n",
    "    csvwriter.writerows(csv_data)\n",
    "\n",
    "output_csv_path"
   ]
  },
  {
   "cell_type": "markdown",
   "id": "f4686159-2efc-4105-968c-40c5b532c107",
   "metadata": {},
   "source": [
    "### Checking if it's in the right format"
   ]
  },
  {
   "cell_type": "code",
   "execution_count": null,
   "id": "e2941f70-6f26-4de9-9107-99d6b5c97dae",
   "metadata": {},
   "outputs": [],
   "source": [
    "import pandas as pd\n",
    "\n",
    "df_códigos_pa = pd.read_csv('csv/codigos_pa.csv')\n",
    "\n",
    "df_códigos_pa.head()"
   ]
  },
  {
   "cell_type": "markdown",
   "id": "849bdd51-f557-4d5f-8556-da83fcb596ad",
   "metadata": {},
   "source": [
    "### Importing the PA file and replace the code's description"
   ]
  },
  {
   "cell_type": "code",
   "execution_count": null,
   "id": "8173693a-8160-4383-ac3b-95ad4cf18e75",
   "metadata": {},
   "outputs": [],
   "source": [
    "df_to = pd.read_csv('csv/PAGO2301.csv')\n",
    "\n",
    "df_to.head()"
   ]
  },
  {
   "cell_type": "markdown",
   "id": "039b8573-284f-4682-9986-e680caa74954",
   "metadata": {},
   "source": [
    "### Renaming the Column's names"
   ]
  },
  {
   "cell_type": "code",
   "execution_count": null,
   "id": "4a94f026-6d3c-40f8-b006-9c6d353d8066",
   "metadata": {},
   "outputs": [],
   "source": [
    "# Create a mapping dictionary from CAMPO to DESCRIÇÃO\n",
    "column_description_map = pd.Series(df_códigos_pa.DESCRIÇÃO.values, index=df_códigos_pa.CAMPO).to_dict()\n",
    "\n",
    "# Rename the columns in pato2301_df based on the mapping\n",
    "df_to_renamed = df_to.rename(columns=column_description_map)\n",
    "\n",
    "# Display the first few rows of the renamed dataframe to confirm changes\n",
    "df_to_renamed.head()"
   ]
  },
  {
   "cell_type": "code",
   "execution_count": null,
   "id": "551dd22a-d6bb-4f3a-b9e6-f8e8168c87cf",
   "metadata": {},
   "outputs": [],
   "source": [
    "# 41; PA_QTDPRO; NUMERIC (11);\"Quantidade Produzida (APRESENTADA)\"\n",
    "# 48; NU_VPA_TOT; NUMERIC (20,2) \"Valor Unitário do Procedimento da Tabela VPA\""
   ]
  },
  {
   "cell_type": "code",
   "execution_count": null,
   "id": "9f9b0455-992b-4046-b3ac-68b461cd8889",
   "metadata": {},
   "outputs": [],
   "source": [
    "# Find columns named NaN and rename them\n",
    "nan_columns = df_to_renamed.columns[df_to_renamed.columns.isnull()]\n",
    "\n",
    "# Generate new names for NaN columns\n",
    "new_names = [\"Quantidade Produzida (APRESENTADA)\", \"Valor Unitário do Procedimento da Tabela VPA\"]\n",
    "\n",
    "# Rename NaN columns\n",
    "for old_name, new_name in zip(nan_columns, new_names):\n",
    "    df_to_renamed.rename(columns={old_name: new_name}, inplace=True)"
   ]
  },
  {
   "cell_type": "code",
   "execution_count": null,
   "id": "e2bb6169-e699-4e09-b9ed-f7e22da22527",
   "metadata": {},
   "outputs": [],
   "source": [
    "df_to_renamed.head()"
   ]
  }
 ],
 "metadata": {
  "kernelspec": {
   "display_name": "Python 3 (Spyder)",
   "language": "python3",
   "name": "python3"
  },
  "language_info": {
   "codemirror_mode": {
    "name": "ipython",
    "version": 3
   },
   "file_extension": ".py",
   "mimetype": "text/x-python",
   "name": "python",
   "nbconvert_exporter": "python",
   "pygments_lexer": "ipython3",
   "version": "3.11.4"
  }
 },
 "nbformat": 4,
 "nbformat_minor": 5
}
