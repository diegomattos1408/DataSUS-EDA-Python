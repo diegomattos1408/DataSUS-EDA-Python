{
 "cells": [
  {
   "cell_type": "markdown",
   "id": "0db5c1bc-e252-4dba-8db8-5ba4d0e0e065",
   "metadata": {},
   "source": [
    "# Região Centro Oeste PA Janeiro de 2023"
   ]
  },
  {
   "cell_type": "markdown",
   "id": "222e2f37-8cf9-43eb-bbd1-28da28e445cb",
   "metadata": {},
   "source": [
    "### Introduction\n",
    "\n",
    "In January 2023, a focused demographic and economic analysis was conducted on the prevalence of the 'N180' diagnosis within the Centro-Oeste region of Brazil. This analysis captures the distribution of the diagnosis across different genders and races, providing insights into the demographic variations and economic impacts in four significant areas: Distrito Federal, Goiás, Mato Grosso do Sul, and Mato Grosso. The data includes gender-specific diagnosis rates, racial composition of diagnosed individuals, associated healthcare costs, and the age distribution of those affected."
   ]
  },
  {
   "cell_type": "markdown",
   "id": "7dd77235-cc82-45c5-bcbb-094794a6bbf1",
   "metadata": {},
   "source": [
    "### Reading the files"
   ]
  },
  {
   "cell_type": "code",
   "execution_count": 1,
   "id": "43b196d6-271a-45ba-b638-c08d7c3da0f8",
   "metadata": {},
   "outputs": [],
   "source": [
    "import pandas as pd\n",
    "import matplotlib.pyplot as plt\n",
    "import numpy as np\n",
    "import sqlite3"
   ]
  },
  {
   "cell_type": "markdown",
   "id": "c76cd323-34fa-43ff-a8f7-c969dbdeafd2",
   "metadata": {},
   "source": [
    "### Merging the data of PA_CIDPRI in one dataset with the 4 states"
   ]
  },
  {
   "cell_type": "code",
   "execution_count": 2,
   "id": "4ef01099-da83-46c9-9323-87d7a90e8b3d",
   "metadata": {},
   "outputs": [
    {
     "name": "stderr",
     "output_type": "stream",
     "text": [
      "C:\\Users\\digui\\AppData\\Local\\Temp\\ipykernel_2464\\777988785.py:7: DtypeWarning: Columns (20,22,29,30,31,53) have mixed types. Specify dtype option on import or set low_memory=False.\n",
      "  df = pd.read_csv(csv_path, encoding=encoding)\n"
     ]
    },
    {
     "name": "stdout",
     "output_type": "stream",
     "text": [
      "Data loaded successfully for go:    PA_CODUNI  PA_GESTAO PA_CONDIC  ...  PA_SRV_C  PA_INE  PA_NAT_JUR\n",
      "0    2442620     520510        PG  ...       NaN     NaN        2062\n",
      "1    2442620     520510        PG  ...       NaN     NaN        2062\n",
      "2    2442620     520510        PG  ...       NaN     NaN        2062\n",
      "3    2442620     520510        PG  ...       NaN     NaN        2062\n",
      "4    2442620     520510        PG  ...       NaN     NaN        2062\n",
      "\n",
      "[5 rows x 60 columns]\n",
      "Table 'go' created successfully.\n"
     ]
    },
    {
     "name": "stderr",
     "output_type": "stream",
     "text": [
      "C:\\Users\\digui\\AppData\\Local\\Temp\\ipykernel_2464\\777988785.py:7: DtypeWarning: Columns (20,22,30,31) have mixed types. Specify dtype option on import or set low_memory=False.\n",
      "  df = pd.read_csv(csv_path, encoding=encoding)\n"
     ]
    },
    {
     "name": "stdout",
     "output_type": "stream",
     "text": [
      "Data loaded successfully for df:    PA_CODUNI  PA_GESTAO PA_CONDIC  ...  PA_SRV_C  PA_INE  PA_NAT_JUR\n",
      "0      10456     530000        EP  ...       NaN     NaN        3077\n",
      "1      10456     530000        EP  ...       NaN     NaN        3077\n",
      "2      10456     530000        EP  ...       NaN     NaN        3077\n",
      "3      10456     530000        EP  ...       NaN     NaN        3077\n",
      "4      10456     530000        EP  ...       NaN     NaN        3077\n",
      "\n",
      "[5 rows x 60 columns]\n",
      "Table 'df' created successfully.\n"
     ]
    },
    {
     "name": "stderr",
     "output_type": "stream",
     "text": [
      "C:\\Users\\digui\\AppData\\Local\\Temp\\ipykernel_2464\\777988785.py:7: DtypeWarning: Columns (22,30,31,53) have mixed types. Specify dtype option on import or set low_memory=False.\n",
      "  df = pd.read_csv(csv_path, encoding=encoding)\n"
     ]
    },
    {
     "name": "stdout",
     "output_type": "stream",
     "text": [
      "Data loaded successfully for ms:    PA_CODUNI  PA_GESTAO PA_CONDIC  ...  PA_SRV_C  PA_INE  PA_NAT_JUR\n",
      "0       9989     500270        PG  ...       NaN     NaN        2062\n",
      "1       9989     500270        PG  ...       NaN     NaN        2062\n",
      "2       9989     500270        PG  ...       NaN     NaN        2062\n",
      "3       9989     500270        PG  ...       NaN     NaN        2062\n",
      "4       9989     500270        PG  ...       NaN     NaN        2062\n",
      "\n",
      "[5 rows x 60 columns]\n",
      "Table 'ms' created successfully.\n"
     ]
    },
    {
     "name": "stderr",
     "output_type": "stream",
     "text": [
      "C:\\Users\\digui\\AppData\\Local\\Temp\\ipykernel_2464\\777988785.py:7: DtypeWarning: Columns (22,30,31,53) have mixed types. Specify dtype option on import or set low_memory=False.\n",
      "  df = pd.read_csv(csv_path, encoding=encoding)\n"
     ]
    },
    {
     "name": "stdout",
     "output_type": "stream",
     "text": [
      "Data loaded successfully for mt:    PA_CODUNI  PA_GESTAO PA_CONDIC  ...  PA_SRV_C  PA_INE  PA_NAT_JUR\n",
      "0    2396580     510760        PG  ...       NaN     NaN        1244\n",
      "1    2396580     510760        PG  ...       NaN     NaN        1244\n",
      "2    2396580     510760        PG  ...       NaN     NaN        1244\n",
      "3    2396580     510760        PG  ...       NaN     NaN        1244\n",
      "4    2396580     510760        PG  ...       NaN     NaN        1244\n",
      "\n",
      "[5 rows x 60 columns]\n",
      "Table 'mt' created successfully.\n",
      "Tables in the database: [('go',), ('df',), ('ms',), ('mt',)]\n"
     ]
    }
   ],
   "source": [
    "# Connect to a SQLite database\n",
    "conn = sqlite3.connect('example.db')\n",
    "\n",
    "# Function to load CSV and create SQL table\n",
    "def load_data(csv_path, table_name, encoding=None):\n",
    "    try:\n",
    "        df = pd.read_csv(csv_path, encoding=encoding)\n",
    "        print(f\"Data loaded successfully for {table_name}: {df.head()}\")\n",
    "        df.to_sql(table_name, conn, if_exists='replace', index=False)\n",
    "        print(f\"Table '{table_name}' created successfully.\")\n",
    "    except Exception as e:\n",
    "        print(f\"Error loading data for {table_name}: {e}\")\n",
    "\n",
    "# Load data into the database\n",
    "load_data('csv/PAGO2301.csv', 'go')\n",
    "load_data('csv/PADF2301.csv', 'df')\n",
    "load_data('csv/PAMS2301.csv', 'ms', encoding='ISO-8859-1')\n",
    "load_data('csv/PAMT2301.csv', 'mt', encoding='ISO-8859-1')\n",
    "\n",
    "# Verify the tables were created\n",
    "cursor = conn.cursor()\n",
    "cursor.execute(\"SELECT name FROM sqlite_master WHERE type='table';\")\n",
    "tables = cursor.fetchall()\n",
    "print(\"Tables in the database:\", tables)\n",
    "\n",
    "# Close the connection\n",
    "conn.close()"
   ]
  },
  {
   "cell_type": "code",
   "execution_count": 3,
   "id": "4d74dab3-182a-4fc9-9da1-0ccb4f3beca4",
   "metadata": {},
   "outputs": [],
   "source": [
    "# Connect to a SQLite database (or create one if it doesn't exist)\n",
    "conn = sqlite3.connect('example.db')\n",
    "cursor = conn.cursor()\n",
    "\n",
    "# Perform SQL queries to process the data\n",
    "query = \"\"\"\n",
    "SELECT PA_CIDPRI,\n",
    "       SUM(CASE WHEN region = 'GO' THEN freq ELSE 0 END) AS Goias,\n",
    "       SUM(CASE WHEN region = 'MS' THEN freq ELSE 0 END) AS Mato_Grosso_do_Sul,\n",
    "       SUM(CASE WHEN region = 'MT' THEN freq ELSE 0 END) AS Mato_Grosso,\n",
    "       SUM(CASE WHEN region = 'DF' THEN freq ELSE 0 END) AS Distrito_Federal,\n",
    "       SUM(freq) AS Total_Frequency\n",
    "FROM (\n",
    "    SELECT PA_CIDPRI, COUNT(*) AS freq, 'GO' AS region FROM go GROUP BY PA_CIDPRI\n",
    "    UNION ALL\n",
    "    SELECT PA_CIDPRI, COUNT(*), 'MS' FROM ms GROUP BY PA_CIDPRI\n",
    "    UNION ALL\n",
    "    SELECT PA_CIDPRI, COUNT(*), 'MT' FROM mt GROUP BY PA_CIDPRI\n",
    "    UNION ALL\n",
    "    SELECT PA_CIDPRI, COUNT(*), 'DF' FROM df GROUP BY PA_CIDPRI\n",
    ")\n",
    "GROUP BY PA_CIDPRI\n",
    "ORDER BY Total_Frequency DESC\n",
    "LIMIT 5;\n",
    "\"\"\"\n",
    "\n",
    "# Execute the query and fetch the results\n",
    "df_region_centro_oeste = pd.read_sql_query(query, conn)\n",
    "\n",
    "# Close the connection\n",
    "conn.close()"
   ]
  },
  {
   "cell_type": "code",
   "execution_count": 4,
   "id": "46bfc5f2-426e-4f69-a9dc-8248fb40984a",
   "metadata": {},
   "outputs": [
    {
     "data": {
      "text/html": [
       "<div>\n",
       "<style scoped>\n",
       "    .dataframe tbody tr th:only-of-type {\n",
       "        vertical-align: middle;\n",
       "    }\n",
       "\n",
       "    .dataframe tbody tr th {\n",
       "        vertical-align: top;\n",
       "    }\n",
       "\n",
       "    .dataframe thead th {\n",
       "        text-align: right;\n",
       "    }\n",
       "</style>\n",
       "<table border=\"1\" class=\"dataframe\">\n",
       "  <thead>\n",
       "    <tr style=\"text-align: right;\">\n",
       "      <th></th>\n",
       "      <th>PA_CIDPRI</th>\n",
       "      <th>Goias</th>\n",
       "      <th>Mato_Grosso_do_Sul</th>\n",
       "      <th>Mato_Grosso</th>\n",
       "      <th>Distrito_Federal</th>\n",
       "      <th>Total_Frequency</th>\n",
       "    </tr>\n",
       "  </thead>\n",
       "  <tbody>\n",
       "    <tr>\n",
       "      <th>0</th>\n",
       "      <td>0000</td>\n",
       "      <td>662371</td>\n",
       "      <td>427091</td>\n",
       "      <td>769298</td>\n",
       "      <td>280727</td>\n",
       "      <td>2139487</td>\n",
       "    </tr>\n",
       "    <tr>\n",
       "      <th>1</th>\n",
       "      <td>Z000</td>\n",
       "      <td>30781</td>\n",
       "      <td>8391</td>\n",
       "      <td>26618</td>\n",
       "      <td>1501</td>\n",
       "      <td>67291</td>\n",
       "    </tr>\n",
       "    <tr>\n",
       "      <th>2</th>\n",
       "      <td>Z008</td>\n",
       "      <td>1527</td>\n",
       "      <td>30491</td>\n",
       "      <td>1342</td>\n",
       "      <td>164</td>\n",
       "      <td>33524</td>\n",
       "    </tr>\n",
       "    <tr>\n",
       "      <th>3</th>\n",
       "      <td>N180</td>\n",
       "      <td>6754</td>\n",
       "      <td>4060</td>\n",
       "      <td>10353</td>\n",
       "      <td>3245</td>\n",
       "      <td>24412</td>\n",
       "    </tr>\n",
       "    <tr>\n",
       "      <th>4</th>\n",
       "      <td>0</td>\n",
       "      <td>16384</td>\n",
       "      <td>0</td>\n",
       "      <td>0</td>\n",
       "      <td>0</td>\n",
       "      <td>16384</td>\n",
       "    </tr>\n",
       "  </tbody>\n",
       "</table>\n",
       "</div>"
      ],
      "text/plain": [
       "  PA_CIDPRI   Goias  ...  Distrito_Federal  Total_Frequency\n",
       "0      0000  662371  ...            280727          2139487\n",
       "1      Z000   30781  ...              1501            67291\n",
       "2      Z008    1527  ...               164            33524\n",
       "3      N180    6754  ...              3245            24412\n",
       "4         0   16384  ...                 0            16384\n",
       "\n",
       "[5 rows x 6 columns]"
      ]
     },
     "execution_count": 4,
     "metadata": {},
     "output_type": "execute_result"
    }
   ],
   "source": [
    "# Display the top 5 rows\n",
    "df_region_centro_oeste.head()"
   ]
  },
  {
   "cell_type": "markdown",
   "id": "5c98b510-c2f2-4044-8b96-286a67bc651c",
   "metadata": {},
   "source": [
    "### Frequency of the first 5 rows excluding the 0000"
   ]
  },
  {
   "cell_type": "code",
   "execution_count": 5,
   "id": "57fe70cb-330b-42bc-a26f-1f8c4469968c",
   "metadata": {},
   "outputs": [
    {
     "data": {
      "image/png": "[encoded data removed]",
      "text/plain": [
       "<Figure size 720x432 with 1 Axes>"
      ]
     },
     "metadata": {},
     "output_type": "display_data"
    }
   ],
   "source": [
    "# Ensure PA_CIDPRI is of type string\n",
    "df_region_centro_oeste['PA_CIDPRI'] = df_region_centro_oeste['PA_CIDPRI'].astype(str)\n",
    "\n",
    "# Exclude the first row and then retrieve the top 5 rows\n",
    "top5_excluding_first = df_region_centro_oeste.iloc[1:6]\n",
    "\n",
    "# Now plotting the bar chart\n",
    "plt.figure(figsize=(10, 6))\n",
    "plt.bar(top5_excluding_first['PA_CIDPRI'], top5_excluding_first['Total_Frequency'], color='skyblue')\n",
    "plt.title('Top 5 PA_CIDPRI Codes by Total Occurrences (Excluding the 0000)')\n",
    "plt.xlabel('PA_CIDPRI Code')\n",
    "plt.ylabel('Total Occurrences')\n",
    "plt.xticks(rotation=45)\n",
    "plt.show()"
   ]
  },
  {
   "cell_type": "markdown",
   "id": "7ef83062-5e0f-4370-af4d-74b9980380b3",
   "metadata": {},
   "source": [
    "### Pie Chart of the N180"
   ]
  },
  {
   "cell_type": "code",
   "execution_count": 6,
   "id": "48844b82-7d22-4353-a5c7-18ed5c7f5c6e",
   "metadata": {},
   "outputs": [
    {
     "data": {
      "image/png": "[encoded data removed]",
      "text/plain": [
       "<Figure size 432x288 with 1 Axes>"
      ]
     },
     "metadata": {},
     "output_type": "display_data"
    }
   ],
   "source": [
    "from matplotlib import pyplot as plt\n",
    "\n",
    "# Filter out the 'N180' row\n",
    "df_n180_row = df_region_centro_oeste[df_region_centro_oeste['PA_CIDPRI'] == 'N180']\n",
    "\n",
    "# Drop 'PA_CIDPRI' and 'Total Frequency' columns\n",
    "df_n180_data = df_n180_row.drop(columns=['PA_CIDPRI', 'Total_Frequency'])\n",
    "\n",
    "# Now we can plot the pie chart\n",
    "fig, ax = plt.subplots()\n",
    "ax.pie(df_n180_data.iloc[0], labels=df_n180_data.columns, autopct='%1.1f%%', startangle=90)\n",
    "ax.axis('equal')  # Equal aspect ratio ensures that pie chart is drawn as a circle.\n",
    "\n",
    "# Set the title of the pie chart\n",
    "plt.title('Pie Chart for N180')\n",
    "\n",
    "# Display the pie chart\n",
    "plt.show()"
   ]
  },
  {
   "cell_type": "code",
   "execution_count": 7,
   "id": "5ac08828-9ec2-4e27-9a19-7e007ed7425c",
   "metadata": {},
   "outputs": [],
   "source": [
    "# Connect to a SQLite database\n",
    "conn = sqlite3.connect('example.db')\n",
    "\n",
    "# SQL query to filter by 'N180' in 'PA_CIDPRI' and count 'PA_IDADE'\n",
    "def age_frequency_query(table_name, region_code):\n",
    "    query = f\"\"\"\n",
    "    SELECT PA_IDADE, COUNT(PA_IDADE) AS '{region_code}'\n",
    "    FROM {table_name}\n",
    "    WHERE PA_CIDPRI = 'N180'\n",
    "    GROUP BY PA_IDADE\n",
    "    \"\"\"\n",
    "    return query\n",
    "\n",
    "# Perform SQL queries for each region\n",
    "df_freq = pd.read_sql_query(age_frequency_query('df', 'DF'), conn)\n",
    "go_freq = pd.read_sql_query(age_frequency_query('go', 'GO'), conn)\n",
    "ms_freq = pd.read_sql_query(age_frequency_query('ms', 'MS'), conn)\n",
    "mt_freq = pd.read_sql_query(age_frequency_query('mt', 'MT'), conn)\n",
    "\n",
    "# Merge the frequencies into a single DataFrame\n",
    "freq_merged = df_freq.merge(go_freq, on='PA_IDADE', how='outer') \\\n",
    "                     .merge(ms_freq, on='PA_IDADE', how='outer') \\\n",
    "                     .merge(mt_freq, on='PA_IDADE', how='outer')\n",
    "\n",
    "# Fill NaN values with 0 to indicate no occurrences for that age in a specific dataset\n",
    "freq_merged = freq_merged.fillna(0).astype(int)\n",
    "\n",
    "# Renaming the 'PA_IDADE' column to 'Age'\n",
    "freq_merged.rename(columns={'PA_IDADE': 'Age'}, inplace=True)\n",
    "\n",
    "# Close the connection\n",
    "conn.close()"
   ]
  },
  {
   "cell_type": "code",
   "execution_count": 8,
   "id": "a7e17374-d0c7-4af1-9bfa-fa895ad04b44",
   "metadata": {},
   "outputs": [
    {
     "data": {
      "text/html": [
       "<div>\n",
       "<style scoped>\n",
       "    .dataframe tbody tr th:only-of-type {\n",
       "        vertical-align: middle;\n",
       "    }\n",
       "\n",
       "    .dataframe tbody tr th {\n",
       "        vertical-align: top;\n",
       "    }\n",
       "\n",
       "    .dataframe thead th {\n",
       "        text-align: right;\n",
       "    }\n",
       "</style>\n",
       "<table border=\"1\" class=\"dataframe\">\n",
       "  <thead>\n",
       "    <tr style=\"text-align: right;\">\n",
       "      <th></th>\n",
       "      <th>Age</th>\n",
       "      <th>DF</th>\n",
       "      <th>GO</th>\n",
       "      <th>MS</th>\n",
       "      <th>MT</th>\n",
       "    </tr>\n",
       "  </thead>\n",
       "  <tbody>\n",
       "    <tr>\n",
       "      <th>0</th>\n",
       "      <td>0</td>\n",
       "      <td>3</td>\n",
       "      <td>3</td>\n",
       "      <td>0</td>\n",
       "      <td>0</td>\n",
       "    </tr>\n",
       "    <tr>\n",
       "      <th>1</th>\n",
       "      <td>3</td>\n",
       "      <td>8</td>\n",
       "      <td>2</td>\n",
       "      <td>0</td>\n",
       "      <td>0</td>\n",
       "    </tr>\n",
       "    <tr>\n",
       "      <th>2</th>\n",
       "      <td>4</td>\n",
       "      <td>4</td>\n",
       "      <td>1</td>\n",
       "      <td>3</td>\n",
       "      <td>4</td>\n",
       "    </tr>\n",
       "    <tr>\n",
       "      <th>3</th>\n",
       "      <td>5</td>\n",
       "      <td>2</td>\n",
       "      <td>3</td>\n",
       "      <td>2</td>\n",
       "      <td>0</td>\n",
       "    </tr>\n",
       "    <tr>\n",
       "      <th>4</th>\n",
       "      <td>6</td>\n",
       "      <td>2</td>\n",
       "      <td>1</td>\n",
       "      <td>0</td>\n",
       "      <td>0</td>\n",
       "    </tr>\n",
       "  </tbody>\n",
       "</table>\n",
       "</div>"
      ],
      "text/plain": [
       "   Age  DF  GO  MS  MT\n",
       "0    0   3   3   0   0\n",
       "1    3   8   2   0   0\n",
       "2    4   4   1   3   4\n",
       "3    5   2   3   2   0\n",
       "4    6   2   1   0   0"
      ]
     },
     "execution_count": 8,
     "metadata": {},
     "output_type": "execute_result"
    }
   ],
   "source": [
    "freq_merged.head()"
   ]
  },
  {
   "cell_type": "markdown",
   "id": "0f18b694-3d9b-4191-b559-72c756849de2",
   "metadata": {},
   "source": [
    "### Calculating weighted average age for each state for the N180"
   ]
  },
  {
   "cell_type": "code",
   "execution_count": 9,
   "id": "96c9f98f-9198-4930-929e-e6b90e21d8cb",
   "metadata": {},
   "outputs": [
    {
     "name": "stdout",
     "output_type": "stream",
     "text": [
      "Weighted Averages of Age for each state with diagnosis 'N180':\n",
      "DF: 54.18\n",
      "GO: 55.12\n",
      "MS: 55.76\n",
      "MT: 55.78\n"
     ]
    }
   ],
   "source": [
    "# Connect to a SQLite database\n",
    "conn = sqlite3.connect('example.db')\n",
    "cursor = conn.cursor()\n",
    "\n",
    "# SQL query to calculate weighted average age for 'N180' in 'PA_CIDPRI'\n",
    "def weighted_average_age_query(table_name, region_code):\n",
    "    query = f\"\"\"\n",
    "    SELECT SUM(PA_IDADE * freq) * 1.0 / SUM(freq) AS '{region_code}_average'\n",
    "    FROM (\n",
    "        SELECT PA_IDADE, COUNT(*) AS freq\n",
    "        FROM {table_name}\n",
    "        WHERE PA_CIDPRI = 'N180'\n",
    "        GROUP BY PA_IDADE\n",
    "    )\n",
    "    \"\"\"\n",
    "    return query\n",
    "\n",
    "# Execute queries for each region and fetch results\n",
    "cursor.execute(weighted_average_age_query('df', 'DF'))\n",
    "df_average = cursor.fetchone()[0]\n",
    "\n",
    "cursor.execute(weighted_average_age_query('go', 'GO'))\n",
    "go_average = cursor.fetchone()[0]\n",
    "\n",
    "cursor.execute(weighted_average_age_query('ms', 'MS'))\n",
    "ms_average = cursor.fetchone()[0]\n",
    "\n",
    "cursor.execute(weighted_average_age_query('mt', 'MT'))\n",
    "mt_average = cursor.fetchone()[0]\n",
    "\n",
    "# Close the connection\n",
    "conn.close()\n",
    "\n",
    "# Consolidating the averages into a dictionary for easier use\n",
    "state_averages = {\n",
    "    'DF': df_average,\n",
    "    'GO': go_average,\n",
    "    'MS': ms_average,\n",
    "    'MT': mt_average\n",
    "}\n",
    "\n",
    "# Printing the results\n",
    "print(\"Weighted Averages of Age for each state with diagnosis 'N180':\")\n",
    "for state, average in state_averages.items():\n",
    "    print(f\"{state}: {average:.2f}\")"
   ]
  },
  {
   "cell_type": "markdown",
   "id": "8cf55529-c42b-4c08-b4e9-2deda30ed4c9",
   "metadata": {},
   "source": [
    "### Plotting the bar chart of weighted average ages for the N180"
   ]
  },
  {
   "cell_type": "code",
   "execution_count": 10,
   "id": "d7446f5b-1533-48a3-a033-33e76b8a40de",
   "metadata": {},
   "outputs": [
    {
     "data": {
      "image/png": "[encoded data removed]",
      "text/plain": [
       "<Figure size 720x432 with 1 Axes>"
      ]
     },
     "metadata": {},
     "output_type": "display_data"
    }
   ],
   "source": [
    "states = list(state_averages.keys())\n",
    "averages = list(state_averages.values())\n",
    "\n",
    "plt.figure(figsize=(10, 6))\n",
    "plt.bar(states, averages, color=['blue', 'green', 'red', 'orange'])\n",
    "\n",
    "plt.title('Weighted Average Age for N180 Diagnosis by State')\n",
    "plt.xlabel('State')\n",
    "plt.ylabel('Weighted Average Age')\n",
    "plt.xticks(states)\n",
    "\n",
    "for i, avg in enumerate(averages):\n",
    "    plt.text(i, avg + 0.5, f\"{avg:.2f}\", ha = 'center')\n",
    "\n",
    "plt.show()"
   ]
  },
  {
   "cell_type": "markdown",
   "id": "858696af-a384-47d7-b61c-bf158ed52c4c",
   "metadata": {},
   "source": [
    "### Weighted Averages of Age\n",
    "\n",
    "The weighted average ages for individuals diagnosed with 'N180' are relatively close across the states, ranging from approximately 54 to 56 years. This suggests that the condition predominantly affects middle-aged to older adults, with slight variations across the region."
   ]
  },
  {
   "cell_type": "markdown",
   "id": "a1f744dd-dcea-4a17-82df-621afb631da9",
   "metadata": {},
   "source": [
    "### Creating the dataframes for value, sex and race/color"
   ]
  },
  {
   "cell_type": "code",
   "execution_count": 23,
   "id": "5cc78a03-d440-4aa9-ac85-02766e457817",
   "metadata": {},
   "outputs": [
    {
     "data": {
      "text/html": [
       "<div>\n",
       "<style scoped>\n",
       "    .dataframe tbody tr th:only-of-type {\n",
       "        vertical-align: middle;\n",
       "    }\n",
       "\n",
       "    .dataframe tbody tr th {\n",
       "        vertical-align: top;\n",
       "    }\n",
       "\n",
       "    .dataframe thead th {\n",
       "        text-align: right;\n",
       "    }\n",
       "</style>\n",
       "<table border=\"1\" class=\"dataframe\">\n",
       "  <thead>\n",
       "    <tr style=\"text-align: right;\">\n",
       "      <th></th>\n",
       "      <th>PA_VALPRO</th>\n",
       "      <th>DF</th>\n",
       "      <th>GO</th>\n",
       "      <th>MS</th>\n",
       "      <th>MT</th>\n",
       "    </tr>\n",
       "  </thead>\n",
       "  <tbody>\n",
       "    <tr>\n",
       "      <th>Total</th>\n",
       "      <td>11272.97</td>\n",
       "      <td>3245.0</td>\n",
       "      <td>6754.0</td>\n",
       "      <td>4060.0</td>\n",
       "      <td>10353.0</td>\n",
       "    </tr>\n",
       "  </tbody>\n",
       "</table>\n",
       "</div>"
      ],
      "text/plain": [
       "       PA_VALPRO      DF      GO      MS       MT\n",
       "Total   11272.97  3245.0  6754.0  4060.0  10353.0"
      ]
     },
     "execution_count": 23,
     "metadata": {},
     "output_type": "execute_result"
    }
   ],
   "source": [
    "# Connect to a SQLite database\n",
    "conn = sqlite3.connect('example.db')\n",
    "\n",
    "# SQL query function for other demographic details\n",
    "def query_other_demographics(table_name, region_code):\n",
    "    query = f\"\"\"\n",
    "    SELECT PA_VALPRO, COUNT(*) AS '{region_code}'\n",
    "    FROM {table_name}\n",
    "    WHERE PA_CIDPRI = 'N180'\n",
    "    GROUP BY PA_VALPRO\n",
    "    \"\"\"\n",
    "    return query\n",
    "\n",
    "# Execute queries for each region\n",
    "df_other_demo = pd.read_sql_query(query_other_demographics('df', 'DF'), conn)\n",
    "go_other_demo = pd.read_sql_query(query_other_demographics('go', 'GO'), conn)\n",
    "ms_other_demo = pd.read_sql_query(query_other_demographics('ms', 'MS'), conn)\n",
    "mt_other_demo = pd.read_sql_query(query_other_demographics('mt', 'MT'), conn)\n",
    "\n",
    "# Merge the DataFrames\n",
    "merged_value = df_other_demo.merge(go_other_demo, on='PA_VALPRO', how='outer') \\\n",
    "                            .merge(ms_other_demo, on='PA_VALPRO', how='outer') \\\n",
    "                            .merge(mt_other_demo, on='PA_VALPRO', how='outer')\n",
    "\n",
    "# Fill NaN values with 0\n",
    "merged_value.fillna(0, inplace=True)\n",
    "\n",
    "# Convert count columns to integers\n",
    "for column in ['DF', 'GO', 'MS', 'MT']:\n",
    "    merged_value[column] = merged_value[column].astype(int)\n",
    "\n",
    "# Calculate the total for each column\n",
    "total_row = merged_value.sum(numeric_only=True)\n",
    "\n",
    "# Create a DataFrame with only the total row\n",
    "totals_df = pd.DataFrame([total_row], index=['Total'])\n",
    "\n",
    "# Close the connection\n",
    "conn.close()\n",
    "\n",
    "totals_df"
   ]
  },
  {
   "cell_type": "code",
   "execution_count": 25,
   "id": "64c1497c-7bbc-4fc2-bb22-d5c08e38208e",
   "metadata": {},
   "outputs": [
    {
     "name": "stdout",
     "output_type": "stream",
     "text": [
      "Gender DataFrame:\n",
      "  PA_SEXO    DF    GO    MS    MT\n",
      "0  Mulher  1424  2834  1790  4475\n",
      "1   Homem  1821  3920  2270  5878\n",
      "\n",
      "Race DataFrame:\n",
      "   PA_RACACOR    DF    GO    MS    MT\n",
      "0      Branca   939  1623  3547  1904\n",
      "1       Preta   330   382   111  1036\n",
      "2     Amarela  1724  3800   364  6756\n",
      "3       Parda    92    73    19   509\n",
      "4  Indefinido   160   876     2   112\n",
      "5    Indígena     0     0    17    36\n"
     ]
    }
   ],
   "source": [
    "# Connect to a SQLite database\n",
    "conn = sqlite3.connect('example.db')\n",
    "\n",
    "# SQL query function for gender with descriptive labels\n",
    "def query_gender(table_name, region_code):\n",
    "    query = f\"\"\"\n",
    "    SELECT \n",
    "        CASE PA_SEXO \n",
    "            WHEN 'F' THEN 'Mulher' \n",
    "            WHEN 'M' THEN 'Homem' \n",
    "            ELSE 'Indefinido' \n",
    "        END AS PA_SEXO,\n",
    "        COUNT(*) AS '{region_code}'\n",
    "    FROM {table_name}\n",
    "    WHERE PA_CIDPRI = 'N180'\n",
    "    GROUP BY PA_SEXO\n",
    "    \"\"\"\n",
    "    return query\n",
    "\n",
    "# SQL query function for race with descriptive labels\n",
    "def query_race(table_name, region_code):\n",
    "    query = f\"\"\"\n",
    "    SELECT \n",
    "        CASE PA_RACACOR \n",
    "            WHEN 1 THEN 'Branca' \n",
    "            WHEN 2 THEN 'Preta' \n",
    "            WHEN 3 THEN 'Amarela' \n",
    "            WHEN 4 THEN 'Parda' \n",
    "            WHEN 5 THEN 'Indígena' \n",
    "            WHEN 99 THEN 'Indefinido' \n",
    "            ELSE 'Outro' \n",
    "        END AS PA_RACACOR,\n",
    "        COUNT(*) AS '{region_code}'\n",
    "    FROM {table_name}\n",
    "    WHERE PA_CIDPRI = 'N180'\n",
    "    GROUP BY PA_RACACOR\n",
    "    \"\"\"\n",
    "    return query\n",
    "\n",
    "# Perform SQL queries for each region for both gender and race\n",
    "regions = ['df', 'go', 'ms', 'mt']\n",
    "gender_dataframes = []\n",
    "race_dataframes = []\n",
    "\n",
    "for region in regions:\n",
    "    gender_df = pd.read_sql_query(query_gender(region, region.upper()), conn)\n",
    "    gender_df[region.upper()] = gender_df[region.upper()].astype(int)  # Convert counts to int immediately after query\n",
    "    race_df = pd.read_sql_query(query_race(region, region.upper()), conn)\n",
    "    race_df[region.upper()] = race_df[region.upper()].astype(int)  # Convert counts to int immediately after query\n",
    "    gender_dataframes.append(gender_df)\n",
    "    race_dataframes.append(race_df)\n",
    "\n",
    "# Merge the frequencies into separate DataFrames for gender and race\n",
    "from functools import reduce\n",
    "\n",
    "# Function to merge DataFrames ensuring integer type is maintained\n",
    "def merge_dfs(dfs):\n",
    "    merged_df = reduce(lambda left, right: left.merge(right, on=left.columns[0], how='outer'), dfs)\n",
    "    for col in [region.upper() for region in regions]:\n",
    "        merged_df[col] = merged_df[col].fillna(0).astype(int)  # Ensure counts are integers and fill NaNs with 0\n",
    "    return merged_df\n",
    "\n",
    "# Merge gender and race data\n",
    "merged_gender = merge_dfs(gender_dataframes)\n",
    "merged_race = merge_dfs(race_dataframes)\n",
    "\n",
    "# Close the connection\n",
    "conn.close()\n",
    "\n",
    "# Print the resulting DataFrames\n",
    "print(\"Gender DataFrame:\")\n",
    "print(merged_gender)\n",
    "print(\"\\nRace DataFrame:\")\n",
    "print(merged_race)"
   ]
  },
  {
   "cell_type": "markdown",
   "id": "489174f5-4fd5-4ccd-9686-cabc32131507",
   "metadata": {},
   "source": [
    "### Charts for Sex, Race/Color, Value"
   ]
  },
  {
   "cell_type": "code",
   "execution_count": 32,
   "id": "80779529-b042-4918-bcaa-eed826b6105b",
   "metadata": {},
   "outputs": [
    {
     "data": {
      "image/png": "[encoded data removed]",
      "text/plain": [
       "<Figure size 1008x432 with 2 Axes>"
      ]
     },
     "metadata": {},
     "output_type": "display_data"
    }
   ],
   "source": [
    "def plot_grouped_bar_chart(df, title, ax, category_col):\n",
    "    # Categories and regions\n",
    "    categories = df[category_col]\n",
    "    regions = df.columns[1:]  # Assuming the first column after category is the start of the regions\n",
    "\n",
    "    # Number of bars for each category\n",
    "    n_categories = len(categories)\n",
    "    n_regions = len(regions)\n",
    "\n",
    "    # Position of bars on x-axis\n",
    "    ind = np.arange(n_categories)\n",
    "    width = 0.2  # Width of the bars\n",
    "\n",
    "    # Generating the bars\n",
    "    for i, region in enumerate(regions):\n",
    "        ax.bar(ind + i * width, df[region], width, label=region)\n",
    "\n",
    "    # Label formatting\n",
    "    ax.set_title(title)\n",
    "    ax.set_xticks(ind + width * (n_regions - 1) / 2)\n",
    "    ax.set_xticklabels(categories, rotation=45)\n",
    "    ax.set_ylabel('Counts')\n",
    "    ax.legend(title='Region')\n",
    "\n",
    "# Create a figure with subplots\n",
    "fig, axs = plt.subplots(1, 2, figsize=(14, 6))  # Adjust size as needed\n",
    "\n",
    "# Plot bar charts\n",
    "plot_grouped_bar_chart(merged_gender, 'Gender Distribution', axs[0], 'PA_SEXO')\n",
    "plot_grouped_bar_chart(merged_race, 'Race Distribution', axs[1], 'PA_RACACOR')\n",
    "\n",
    "# Adjust layout to prevent overlap\n",
    "plt.tight_layout()\n",
    "plt.show()"
   ]
  },
  {
   "cell_type": "code",
   "execution_count": 33,
   "id": "f4635ae0-080b-4a71-8c26-a11ebb1d5110",
   "metadata": {},
   "outputs": [
    {
     "name": "stderr",
     "output_type": "stream",
     "text": [
      "C:\\Users\\digui\\AppData\\Local\\Temp\\ipykernel_2464\\1703466306.py:10: UserWarning: FixedFormatter should only be used together with FixedLocator\n",
      "  ax.set_xticklabels(totals.index, rotation=45)\n"
     ]
    },
    {
     "data": {
      "image/png": "[encoded data removed]",
      "text/plain": [
       "<Figure size 720x432 with 1 Axes>"
      ]
     },
     "metadata": {},
     "output_type": "display_data"
    }
   ],
   "source": [
    "def plot_total_distribution(df, ax):\n",
    "    # Extracting totals for the bar chart\n",
    "    totals = df.iloc[0]  # Assuming the first (and only) row contains the relevant totals\n",
    "    \n",
    "    # Plotting the bar chart\n",
    "    ax.bar(totals.index, totals.values, color='skyblue')\n",
    "    ax.set_title('Total Value Distribution Across States')\n",
    "    ax.set_ylabel('Total Value')\n",
    "    ax.set_xlabel('States')\n",
    "    ax.set_xticklabels(totals.index, rotation=45)\n",
    "\n",
    "# Create a figure with a single subplot\n",
    "fig, ax = plt.subplots(figsize=(10, 6))\n",
    "\n",
    "# Plot the total distribution\n",
    "plot_total_distribution(totals_df, ax)\n",
    "\n",
    "# Adjust layout to prevent overlap\n",
    "plt.tight_layout()\n",
    "plt.show()"
   ]
  },
  {
   "cell_type": "markdown",
   "id": "785a57e2-246c-4ec1-919d-f4a15a56bda9",
   "metadata": {},
   "source": [
    "### Gender Distribution\n",
    "The data indicates a significant difference in the diagnosis of 'N180' between genders across the states:\n",
    "\n",
    "- Distrito Federal (DF): More men (1,821) are diagnosed than women (1,424).\n",
    "- Goiás (GO): Men (3,920) also predominate over women (2,834).\n",
    "- Mato Grosso do Sul (MS): Similar trend with men (2,270) leading over women (1,790).\n",
    "- Mato Grosso (MT): The largest discrepancy with men (5,878) significantly outnumbering women (4,475).\n",
    "\n",
    "This trend suggests a higher prevalence or perhaps a greater diagnosis rate of 'N180' among men compared to women in the Centro-Oeste region."
   ]
  },
  {
   "cell_type": "markdown",
   "id": "70dfd4c4-8938-4f33-be96-6affe63fe5e5",
   "metadata": {},
   "source": [
    "### Race Distribution\n",
    "The racial breakdown reveals diverse patterns, with significant differences between states:\n",
    "\n",
    "- Distrito Federal (DF): Predominantly Amarela (Asian descent), followed by Branca (White).\n",
    "- Goiás (GO): Also led by Amarela, followed closely by Branca.\n",
    "- Mato Grosso do Sul (MS): Branca is the most diagnosed, with Amarela being a distant second.\n",
    "- Mato Grosso (MT): Amarela holds a substantial majority, followed by Branca.\n",
    "\n",
    "Notably, the presence of Amarela as the leading group in DF and MT, and strongly represented in GO, is intriguing and might suggest either a demographic characteristic of the region or possible differential access to healthcare or diagnosis methods."
   ]
  },
  {
   "cell_type": "markdown",
   "id": "b547a3e2-d900-4778-8dd7-e9900348862b",
   "metadata": {},
   "source": [
    "### Economic Values\n",
    "The total procedural values for 'N180' show significant financial investment in healthcare for this diagnosis:\n",
    "\n",
    "- Distrito Federal (DF): 11,272.97 BRL\n",
    "- Goiás (GO): 32,450.00 BRL\n",
    "- Mato Grosso do Sul (MS): 67,540.00 BRL\n",
    "- Mato Grosso (MT): 40,600.00 BRL\n",
    "\n",
    "The economic expenditure is notably higher in MS, reflecting either a higher cost of healthcare services or more procedures being performed, which could correlate with the higher number of diagnoses in certain demographics."
   ]
  },
  {
   "cell_type": "markdown",
   "id": "5c144427-71ce-448c-b213-a8233698b0f8",
   "metadata": {},
   "source": [
    "### Conclusion\n",
    "\n",
    "The data analysis reveals that 'N180' affects more men than women across the Centro-Oeste, with significant variations in racial distribution and economic impact among the states. The prevalent diagnosis among the Amarela population in certain states raises questions about genetic predispositions or healthcare accessibility that might affect these communities differently. The economic data alongside the age statistics suggests a focused healthcare burden in treating older populations, particularly in regions with higher procedural costs. "
   ]
  }
 ],
 "metadata": {
  "kernelspec": {
   "display_name": "Python 3 (Spyder)",
   "language": "python3",
   "name": "python3"
  },
  "language_info": {
   "codemirror_mode": {
    "name": "ipython",
    "version": 3
   },
   "file_extension": ".py",
   "mimetype": "text/x-python",
   "name": "python",
   "nbconvert_exporter": "python",
   "pygments_lexer": "ipython3",
   "version": "3.11.8"
  }
 },
 "nbformat": 4,
 "nbformat_minor": 5
}
