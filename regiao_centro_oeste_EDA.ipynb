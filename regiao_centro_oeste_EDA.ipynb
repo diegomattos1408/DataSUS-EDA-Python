{
 "cells": [
  {
   "cell_type": "markdown",
   "id": "0db5c1bc-e252-4dba-8db8-5ba4d0e0e065",
   "metadata": {},
   "source": [
    "# Região Centro Oeste PA Janeiro de 2023"
   ]
  },
  {
   "cell_type": "markdown",
   "id": "222e2f37-8cf9-43eb-bbd1-28da28e445cb",
   "metadata": {},
   "source": [
    "### Introduction\n",
    "The provided visual and statistical information offers an insightful snapshot of the demographic distribution for the diagnosis of 'N180' within the Centro-Oeste region of Brazil. The pie chart illustrates a comparative representation of the prevalence of 'N180' across four significant areas: Distrito Federal, Goiás, Mato Grosso do Sul, and Mato Grosso. This regional analysis is complemented by a set of weighted average ages for each state, providing a demographic perspective on the age groups most affected by this condition."
   ]
  },
  {
   "cell_type": "markdown",
   "id": "7dd77235-cc82-45c5-bcbb-094794a6bbf1",
   "metadata": {},
   "source": [
    "### Reading the files"
   ]
  },
  {
   "cell_type": "code",
   "execution_count": 1,
   "id": "43b196d6-271a-45ba-b638-c08d7c3da0f8",
   "metadata": {},
   "outputs": [],
   "source": [
    "import pandas as pd\n",
    "import matplotlib.pyplot as plt\n",
    "import numpy as np\n",
    "import sqlite3"
   ]
  },
  {
   "cell_type": "markdown",
   "id": "c76cd323-34fa-43ff-a8f7-c969dbdeafd2",
   "metadata": {},
   "source": [
    "### Merging the data of PA_CIDPRI in one dataset with the 4 states"
   ]
  },
  {
   "cell_type": "code",
   "execution_count": 2,
   "id": "4ef01099-da83-46c9-9323-87d7a90e8b3d",
   "metadata": {},
   "outputs": [
    {
     "name": "stderr",
     "output_type": "stream",
     "text": [
      "C:\\Users\\digui\\AppData\\Local\\Temp\\ipykernel_20736\\777988785.py:7: DtypeWarning: Columns (20,22,29,30,31,53) have mixed types. Specify dtype option on import or set low_memory=False.\n",
      "  df = pd.read_csv(csv_path, encoding=encoding)\n"
     ]
    },
    {
     "name": "stdout",
     "output_type": "stream",
     "text": [
      "Data loaded successfully for go:    PA_CODUNI  PA_GESTAO PA_CONDIC  ...  PA_SRV_C  PA_INE  PA_NAT_JUR\n",
      "0    2442620     520510        PG  ...       NaN     NaN        2062\n",
      "1    2442620     520510        PG  ...       NaN     NaN        2062\n",
      "2    2442620     520510        PG  ...       NaN     NaN        2062\n",
      "3    2442620     520510        PG  ...       NaN     NaN        2062\n",
      "4    2442620     520510        PG  ...       NaN     NaN        2062\n",
      "\n",
      "[5 rows x 60 columns]\n",
      "Table 'go' created successfully.\n"
     ]
    },
    {
     "name": "stderr",
     "output_type": "stream",
     "text": [
      "C:\\Users\\digui\\AppData\\Local\\Temp\\ipykernel_20736\\777988785.py:7: DtypeWarning: Columns (20,22,30,31) have mixed types. Specify dtype option on import or set low_memory=False.\n",
      "  df = pd.read_csv(csv_path, encoding=encoding)\n"
     ]
    },
    {
     "name": "stdout",
     "output_type": "stream",
     "text": [
      "Data loaded successfully for df:    PA_CODUNI  PA_GESTAO PA_CONDIC  ...  PA_SRV_C  PA_INE  PA_NAT_JUR\n",
      "0      10456     530000        EP  ...       NaN     NaN        3077\n",
      "1      10456     530000        EP  ...       NaN     NaN        3077\n",
      "2      10456     530000        EP  ...       NaN     NaN        3077\n",
      "3      10456     530000        EP  ...       NaN     NaN        3077\n",
      "4      10456     530000        EP  ...       NaN     NaN        3077\n",
      "\n",
      "[5 rows x 60 columns]\n",
      "Table 'df' created successfully.\n"
     ]
    },
    {
     "name": "stderr",
     "output_type": "stream",
     "text": [
      "C:\\Users\\digui\\AppData\\Local\\Temp\\ipykernel_20736\\777988785.py:7: DtypeWarning: Columns (22,30,31,53) have mixed types. Specify dtype option on import or set low_memory=False.\n",
      "  df = pd.read_csv(csv_path, encoding=encoding)\n"
     ]
    },
    {
     "name": "stdout",
     "output_type": "stream",
     "text": [
      "Data loaded successfully for ms:    PA_CODUNI  PA_GESTAO PA_CONDIC  ...  PA_SRV_C  PA_INE  PA_NAT_JUR\n",
      "0       9989     500270        PG  ...       NaN     NaN        2062\n",
      "1       9989     500270        PG  ...       NaN     NaN        2062\n",
      "2       9989     500270        PG  ...       NaN     NaN        2062\n",
      "3       9989     500270        PG  ...       NaN     NaN        2062\n",
      "4       9989     500270        PG  ...       NaN     NaN        2062\n",
      "\n",
      "[5 rows x 60 columns]\n",
      "Table 'ms' created successfully.\n"
     ]
    },
    {
     "name": "stderr",
     "output_type": "stream",
     "text": [
      "C:\\Users\\digui\\AppData\\Local\\Temp\\ipykernel_20736\\777988785.py:7: DtypeWarning: Columns (22,30,31,53) have mixed types. Specify dtype option on import or set low_memory=False.\n",
      "  df = pd.read_csv(csv_path, encoding=encoding)\n"
     ]
    },
    {
     "name": "stdout",
     "output_type": "stream",
     "text": [
      "Data loaded successfully for mt:    PA_CODUNI  PA_GESTAO PA_CONDIC  ...  PA_SRV_C  PA_INE  PA_NAT_JUR\n",
      "0    2396580     510760        PG  ...       NaN     NaN        1244\n",
      "1    2396580     510760        PG  ...       NaN     NaN        1244\n",
      "2    2396580     510760        PG  ...       NaN     NaN        1244\n",
      "3    2396580     510760        PG  ...       NaN     NaN        1244\n",
      "4    2396580     510760        PG  ...       NaN     NaN        1244\n",
      "\n",
      "[5 rows x 60 columns]\n",
      "Table 'mt' created successfully.\n",
      "Tables in the database: [('go',), ('df',), ('ms',), ('mt',)]\n"
     ]
    }
   ],
   "source": [
    "# Connect to a SQLite database\n",
    "conn = sqlite3.connect('example.db')\n",
    "\n",
    "# Function to load CSV and create SQL table\n",
    "def load_data(csv_path, table_name, encoding=None):\n",
    "    try:\n",
    "        df = pd.read_csv(csv_path, encoding=encoding)\n",
    "        print(f\"Data loaded successfully for {table_name}: {df.head()}\")\n",
    "        df.to_sql(table_name, conn, if_exists='replace', index=False)\n",
    "        print(f\"Table '{table_name}' created successfully.\")\n",
    "    except Exception as e:\n",
    "        print(f\"Error loading data for {table_name}: {e}\")\n",
    "\n",
    "# Load data into the database\n",
    "load_data('csv/PAGO2301.csv', 'go')\n",
    "load_data('csv/PADF2301.csv', 'df')\n",
    "load_data('csv/PAMS2301.csv', 'ms', encoding='ISO-8859-1')\n",
    "load_data('csv/PAMT2301.csv', 'mt', encoding='ISO-8859-1')\n",
    "\n",
    "# Verify the tables were created\n",
    "cursor = conn.cursor()\n",
    "cursor.execute(\"SELECT name FROM sqlite_master WHERE type='table';\")\n",
    "tables = cursor.fetchall()\n",
    "print(\"Tables in the database:\", tables)\n",
    "\n",
    "# Close the connection\n",
    "conn.close()"
   ]
  },
  {
   "cell_type": "code",
   "execution_count": 3,
   "id": "4d74dab3-182a-4fc9-9da1-0ccb4f3beca4",
   "metadata": {},
   "outputs": [],
   "source": [
    "# Connect to a SQLite database (or create one if it doesn't exist)\n",
    "conn = sqlite3.connect('example.db')\n",
    "cursor = conn.cursor()\n",
    "\n",
    "# Perform SQL queries to process the data\n",
    "query = \"\"\"\n",
    "SELECT PA_CIDPRI,\n",
    "       SUM(CASE WHEN region = 'GO' THEN freq ELSE 0 END) AS Goias,\n",
    "       SUM(CASE WHEN region = 'MS' THEN freq ELSE 0 END) AS Mato_Grosso_do_Sul,\n",
    "       SUM(CASE WHEN region = 'MT' THEN freq ELSE 0 END) AS Mato_Grosso,\n",
    "       SUM(CASE WHEN region = 'DF' THEN freq ELSE 0 END) AS Distrito_Federal,\n",
    "       SUM(freq) AS Total_Frequency\n",
    "FROM (\n",
    "    SELECT PA_CIDPRI, COUNT(*) AS freq, 'GO' AS region FROM go GROUP BY PA_CIDPRI\n",
    "    UNION ALL\n",
    "    SELECT PA_CIDPRI, COUNT(*), 'MS' FROM ms GROUP BY PA_CIDPRI\n",
    "    UNION ALL\n",
    "    SELECT PA_CIDPRI, COUNT(*), 'MT' FROM mt GROUP BY PA_CIDPRI\n",
    "    UNION ALL\n",
    "    SELECT PA_CIDPRI, COUNT(*), 'DF' FROM df GROUP BY PA_CIDPRI\n",
    ")\n",
    "GROUP BY PA_CIDPRI\n",
    "ORDER BY Total_Frequency DESC\n",
    "LIMIT 5;\n",
    "\"\"\"\n",
    "\n",
    "# Execute the query and fetch the results\n",
    "df_region_centro_oeste = pd.read_sql_query(query, conn)\n",
    "\n",
    "# Close the connection\n",
    "conn.close()"
   ]
  },
  {
   "cell_type": "code",
   "execution_count": 4,
   "id": "46bfc5f2-426e-4f69-a9dc-8248fb40984a",
   "metadata": {},
   "outputs": [
    {
     "data": {
      "text/html": [
       "<div>\n",
       "<style scoped>\n",
       "    .dataframe tbody tr th:only-of-type {\n",
       "        vertical-align: middle;\n",
       "    }\n",
       "\n",
       "    .dataframe tbody tr th {\n",
       "        vertical-align: top;\n",
       "    }\n",
       "\n",
       "    .dataframe thead th {\n",
       "        text-align: right;\n",
       "    }\n",
       "</style>\n",
       "<table border=\"1\" class=\"dataframe\">\n",
       "  <thead>\n",
       "    <tr style=\"text-align: right;\">\n",
       "      <th></th>\n",
       "      <th>PA_CIDPRI</th>\n",
       "      <th>Goias</th>\n",
       "      <th>Mato_Grosso_do_Sul</th>\n",
       "      <th>Mato_Grosso</th>\n",
       "      <th>Distrito_Federal</th>\n",
       "      <th>Total_Frequency</th>\n",
       "    </tr>\n",
       "  </thead>\n",
       "  <tbody>\n",
       "    <tr>\n",
       "      <th>0</th>\n",
       "      <td>0000</td>\n",
       "      <td>662371</td>\n",
       "      <td>427091</td>\n",
       "      <td>769298</td>\n",
       "      <td>280727</td>\n",
       "      <td>2139487</td>\n",
       "    </tr>\n",
       "    <tr>\n",
       "      <th>1</th>\n",
       "      <td>Z000</td>\n",
       "      <td>30781</td>\n",
       "      <td>8391</td>\n",
       "      <td>26618</td>\n",
       "      <td>1501</td>\n",
       "      <td>67291</td>\n",
       "    </tr>\n",
       "    <tr>\n",
       "      <th>2</th>\n",
       "      <td>Z008</td>\n",
       "      <td>1527</td>\n",
       "      <td>30491</td>\n",
       "      <td>1342</td>\n",
       "      <td>164</td>\n",
       "      <td>33524</td>\n",
       "    </tr>\n",
       "    <tr>\n",
       "      <th>3</th>\n",
       "      <td>N180</td>\n",
       "      <td>6754</td>\n",
       "      <td>4060</td>\n",
       "      <td>10353</td>\n",
       "      <td>3245</td>\n",
       "      <td>24412</td>\n",
       "    </tr>\n",
       "    <tr>\n",
       "      <th>4</th>\n",
       "      <td>0</td>\n",
       "      <td>16384</td>\n",
       "      <td>0</td>\n",
       "      <td>0</td>\n",
       "      <td>0</td>\n",
       "      <td>16384</td>\n",
       "    </tr>\n",
       "  </tbody>\n",
       "</table>\n",
       "</div>"
      ],
      "text/plain": [
       "  PA_CIDPRI   Goias  ...  Distrito_Federal  Total_Frequency\n",
       "0      0000  662371  ...            280727          2139487\n",
       "1      Z000   30781  ...              1501            67291\n",
       "2      Z008    1527  ...               164            33524\n",
       "3      N180    6754  ...              3245            24412\n",
       "4         0   16384  ...                 0            16384\n",
       "\n",
       "[5 rows x 6 columns]"
      ]
     },
     "execution_count": 4,
     "metadata": {},
     "output_type": "execute_result"
    }
   ],
   "source": [
    "# Display the top 5 rows\n",
    "df_region_centro_oeste.head()"
   ]
  },
  {
   "cell_type": "markdown",
   "id": "5c98b510-c2f2-4044-8b96-286a67bc651c",
   "metadata": {},
   "source": [
    "### Frequency of the first 5 rows excluding the 0000"
   ]
  },
  {
   "cell_type": "code",
   "execution_count": 7,
   "id": "57fe70cb-330b-42bc-a26f-1f8c4469968c",
   "metadata": {},
   "outputs": [
    {
     "data": {
      "image/png": "[encoded data removed]",
      "text/plain": [
       "<Figure size 720x432 with 1 Axes>"
      ]
     },
     "metadata": {},
     "output_type": "display_data"
    }
   ],
   "source": [
    "# Ensure PA_CIDPRI is of type string\n",
    "df_region_centro_oeste['PA_CIDPRI'] = df_region_centro_oeste['PA_CIDPRI'].astype(str)\n",
    "\n",
    "# Exclude the first row and then retrieve the top 5 rows\n",
    "top5_excluding_first = df_region_centro_oeste.iloc[1:6]\n",
    "\n",
    "# Now plotting the bar chart\n",
    "plt.figure(figsize=(10, 6))\n",
    "plt.bar(top5_excluding_first['PA_CIDPRI'], top5_excluding_first['Total_Frequency'], color='skyblue')\n",
    "plt.title('Top 5 PA_CIDPRI Codes by Total Occurrences (Excluding the 0000)')\n",
    "plt.xlabel('PA_CIDPRI Code')\n",
    "plt.ylabel('Total Occurrences')\n",
    "plt.xticks(rotation=45)\n",
    "plt.show()"
   ]
  },
  {
   "cell_type": "markdown",
   "id": "7ef83062-5e0f-4370-af4d-74b9980380b3",
   "metadata": {},
   "source": [
    "### Pie Chart of the N180"
   ]
  },
  {
   "cell_type": "code",
   "execution_count": 9,
   "id": "48844b82-7d22-4353-a5c7-18ed5c7f5c6e",
   "metadata": {},
   "outputs": [
    {
     "data": {
      "image/png": "[encoded data removed]",
      "text/plain": [
       "<Figure size 432x288 with 1 Axes>"
      ]
     },
     "metadata": {},
     "output_type": "display_data"
    }
   ],
   "source": [
    "from matplotlib import pyplot as plt\n",
    "\n",
    "# Filter out the 'N180' row\n",
    "df_n180_row = df_region_centro_oeste[df_region_centro_oeste['PA_CIDPRI'] == 'N180']\n",
    "\n",
    "# Drop 'PA_CIDPRI' and 'Total Frequency' columns\n",
    "df_n180_data = df_n180_row.drop(columns=['PA_CIDPRI', 'Total_Frequency'])\n",
    "\n",
    "# Now we can plot the pie chart\n",
    "fig, ax = plt.subplots()\n",
    "ax.pie(df_n180_data.iloc[0], labels=df_n180_data.columns, autopct='%1.1f%%', startangle=90)\n",
    "ax.axis('equal')  # Equal aspect ratio ensures that pie chart is drawn as a circle.\n",
    "\n",
    "# Set the title of the pie chart\n",
    "plt.title('Pie Chart for N180')\n",
    "\n",
    "# Display the pie chart\n",
    "plt.show()"
   ]
  },
  {
   "cell_type": "code",
   "execution_count": 11,
   "id": "5ac08828-9ec2-4e27-9a19-7e007ed7425c",
   "metadata": {},
   "outputs": [],
   "source": [
    "# Connect to a SQLite database\n",
    "conn = sqlite3.connect('example.db')\n",
    "\n",
    "# SQL query to filter by 'N180' in 'PA_CIDPRI' and count 'PA_IDADE'\n",
    "def age_frequency_query(table_name, region_code):\n",
    "    query = f\"\"\"\n",
    "    SELECT PA_IDADE, COUNT(PA_IDADE) AS '{region_code}'\n",
    "    FROM {table_name}\n",
    "    WHERE PA_CIDPRI = 'N180'\n",
    "    GROUP BY PA_IDADE\n",
    "    \"\"\"\n",
    "    return query\n",
    "\n",
    "# Perform SQL queries for each region\n",
    "df_freq = pd.read_sql_query(age_frequency_query('df', 'DF'), conn)\n",
    "go_freq = pd.read_sql_query(age_frequency_query('go', 'GO'), conn)\n",
    "ms_freq = pd.read_sql_query(age_frequency_query('ms', 'MS'), conn)\n",
    "mt_freq = pd.read_sql_query(age_frequency_query('mt', 'MT'), conn)\n",
    "\n",
    "# Merge the frequencies into a single DataFrame\n",
    "freq_merged = df_freq.merge(go_freq, on='PA_IDADE', how='outer') \\\n",
    "                     .merge(ms_freq, on='PA_IDADE', how='outer') \\\n",
    "                     .merge(mt_freq, on='PA_IDADE', how='outer')\n",
    "\n",
    "# Fill NaN values with 0 to indicate no occurrences for that age in a specific dataset\n",
    "freq_merged = freq_merged.fillna(0).astype(int)\n",
    "\n",
    "# Renaming the 'PA_IDADE' column to 'Age'\n",
    "freq_merged.rename(columns={'PA_IDADE': 'Age'}, inplace=True)\n",
    "\n",
    "# Close the connection\n",
    "conn.close()"
   ]
  },
  {
   "cell_type": "code",
   "execution_count": 12,
   "id": "a7e17374-d0c7-4af1-9bfa-fa895ad04b44",
   "metadata": {},
   "outputs": [
    {
     "data": {
      "text/html": [
       "<div>\n",
       "<style scoped>\n",
       "    .dataframe tbody tr th:only-of-type {\n",
       "        vertical-align: middle;\n",
       "    }\n",
       "\n",
       "    .dataframe tbody tr th {\n",
       "        vertical-align: top;\n",
       "    }\n",
       "\n",
       "    .dataframe thead th {\n",
       "        text-align: right;\n",
       "    }\n",
       "</style>\n",
       "<table border=\"1\" class=\"dataframe\">\n",
       "  <thead>\n",
       "    <tr style=\"text-align: right;\">\n",
       "      <th></th>\n",
       "      <th>Age</th>\n",
       "      <th>DF</th>\n",
       "      <th>GO</th>\n",
       "      <th>MS</th>\n",
       "      <th>MT</th>\n",
       "    </tr>\n",
       "  </thead>\n",
       "  <tbody>\n",
       "    <tr>\n",
       "      <th>0</th>\n",
       "      <td>0</td>\n",
       "      <td>3</td>\n",
       "      <td>3</td>\n",
       "      <td>0</td>\n",
       "      <td>0</td>\n",
       "    </tr>\n",
       "    <tr>\n",
       "      <th>1</th>\n",
       "      <td>3</td>\n",
       "      <td>8</td>\n",
       "      <td>2</td>\n",
       "      <td>0</td>\n",
       "      <td>0</td>\n",
       "    </tr>\n",
       "    <tr>\n",
       "      <th>2</th>\n",
       "      <td>4</td>\n",
       "      <td>4</td>\n",
       "      <td>1</td>\n",
       "      <td>3</td>\n",
       "      <td>4</td>\n",
       "    </tr>\n",
       "    <tr>\n",
       "      <th>3</th>\n",
       "      <td>5</td>\n",
       "      <td>2</td>\n",
       "      <td>3</td>\n",
       "      <td>2</td>\n",
       "      <td>0</td>\n",
       "    </tr>\n",
       "    <tr>\n",
       "      <th>4</th>\n",
       "      <td>6</td>\n",
       "      <td>2</td>\n",
       "      <td>1</td>\n",
       "      <td>0</td>\n",
       "      <td>0</td>\n",
       "    </tr>\n",
       "  </tbody>\n",
       "</table>\n",
       "</div>"
      ],
      "text/plain": [
       "   Age  DF  GO  MS  MT\n",
       "0    0   3   3   0   0\n",
       "1    3   8   2   0   0\n",
       "2    4   4   1   3   4\n",
       "3    5   2   3   2   0\n",
       "4    6   2   1   0   0"
      ]
     },
     "execution_count": 12,
     "metadata": {},
     "output_type": "execute_result"
    }
   ],
   "source": [
    "freq_merged.head()"
   ]
  },
  {
   "cell_type": "markdown",
   "id": "0f18b694-3d9b-4191-b559-72c756849de2",
   "metadata": {},
   "source": [
    "### Calculating weighted average age for each state for the N180"
   ]
  },
  {
   "cell_type": "code",
   "execution_count": 13,
   "id": "96c9f98f-9198-4930-929e-e6b90e21d8cb",
   "metadata": {},
   "outputs": [
    {
     "name": "stdout",
     "output_type": "stream",
     "text": [
      "Weighted Averages of Age for each state with diagnosis 'N180':\n",
      "DF: 54.18\n",
      "GO: 55.12\n",
      "MS: 55.76\n",
      "MT: 55.78\n"
     ]
    }
   ],
   "source": [
    "# Connect to a SQLite database\n",
    "conn = sqlite3.connect('example.db')\n",
    "cursor = conn.cursor()\n",
    "\n",
    "# SQL query to calculate weighted average age for 'N180' in 'PA_CIDPRI'\n",
    "def weighted_average_age_query(table_name, region_code):\n",
    "    query = f\"\"\"\n",
    "    SELECT SUM(PA_IDADE * freq) * 1.0 / SUM(freq) AS '{region_code}_average'\n",
    "    FROM (\n",
    "        SELECT PA_IDADE, COUNT(*) AS freq\n",
    "        FROM {table_name}\n",
    "        WHERE PA_CIDPRI = 'N180'\n",
    "        GROUP BY PA_IDADE\n",
    "    )\n",
    "    \"\"\"\n",
    "    return query\n",
    "\n",
    "# Execute queries for each region and fetch results\n",
    "cursor.execute(weighted_average_age_query('df', 'DF'))\n",
    "df_average = cursor.fetchone()[0]\n",
    "\n",
    "cursor.execute(weighted_average_age_query('go', 'GO'))\n",
    "go_average = cursor.fetchone()[0]\n",
    "\n",
    "cursor.execute(weighted_average_age_query('ms', 'MS'))\n",
    "ms_average = cursor.fetchone()[0]\n",
    "\n",
    "cursor.execute(weighted_average_age_query('mt', 'MT'))\n",
    "mt_average = cursor.fetchone()[0]\n",
    "\n",
    "# Close the connection\n",
    "conn.close()\n",
    "\n",
    "# Consolidating the averages into a dictionary for easier use\n",
    "state_averages = {\n",
    "    'DF': df_average,\n",
    "    'GO': go_average,\n",
    "    'MS': ms_average,\n",
    "    'MT': mt_average\n",
    "}\n",
    "\n",
    "# Printing the results\n",
    "print(\"Weighted Averages of Age for each state with diagnosis 'N180':\")\n",
    "for state, average in state_averages.items():\n",
    "    print(f\"{state}: {average:.2f}\")"
   ]
  },
  {
   "cell_type": "markdown",
   "id": "8cf55529-c42b-4c08-b4e9-2deda30ed4c9",
   "metadata": {},
   "source": [
    "### Plotting the bar chart of weighted average ages for the N180"
   ]
  },
  {
   "cell_type": "code",
   "execution_count": 14,
   "id": "d7446f5b-1533-48a3-a033-33e76b8a40de",
   "metadata": {},
   "outputs": [
    {
     "data": {
      "image/png": "[encoded data removed]",
      "text/plain": [
       "<Figure size 720x432 with 1 Axes>"
      ]
     },
     "metadata": {},
     "output_type": "display_data"
    }
   ],
   "source": [
    "states = list(state_averages.keys())\n",
    "averages = list(state_averages.values())\n",
    "\n",
    "plt.figure(figsize=(10, 6))\n",
    "plt.bar(states, averages, color=['blue', 'green', 'red', 'orange'])\n",
    "\n",
    "plt.title('Weighted Average Age for N180 Diagnosis by State')\n",
    "plt.xlabel('State')\n",
    "plt.ylabel('Weighted Average Age')\n",
    "plt.xticks(states)\n",
    "\n",
    "for i, avg in enumerate(averages):\n",
    "    plt.text(i, avg + 0.5, f\"{avg:.2f}\", ha = 'center')\n",
    "\n",
    "plt.show()"
   ]
  },
  {
   "cell_type": "markdown",
   "id": "89026658-ae74-4f49-b51b-b0797bd68e6f",
   "metadata": {},
   "source": [
    "### Analysis\n",
    "From the pie chart, we can discern that Mato Grosso bears the largest share of 'N180' diagnoses at 42.4%, followed by Goiás with 27.7%, Mato Grosso do Sul with 16.6%, and finally, the Distrito Federal at 13.3%. This distribution suggests a higher concentration of reported cases in Mato Grosso. The weighted average ages from the dataset provide further context: the average age of diagnosis is fairly consistent across the states, hovering in the mid-50s, with Mato Grosso do Sul and Mato Grosso presenting marginally higher averages."
   ]
  },
  {
   "cell_type": "markdown",
   "id": "03e22d32-c432-4248-a760-96bda64404e2",
   "metadata": {},
   "source": [
    "### Conclusion\n",
    "The prevalence and demographic data regarding the 'N180' diagnosis within the Centro-Oeste region indicate a noteworthy regional variance, with Mato Grosso at the forefront of reported cases. However, the age data presents a different narrative of consistency, demonstrating that the mid-50s age group is similarly affected across different states. These insights underscore the importance of regional health data in understanding and addressing health issues and may inform public health policies and resource allocation to better serve the affected populations. The data indicates that while the distribution of the condition varies by region, the age of those affected does not show significant variation, pointing towards the potential influence of non-age-related factors in the regional distribution of the diagnosis."
   ]
  },
  {
   "cell_type": "code",
   "execution_count": null,
   "id": "e28bbebf-1d07-4dc1-a783-36d03114d4c8",
   "metadata": {},
   "outputs": [],
   "source": []
  }
 ],
 "metadata": {
  "kernelspec": {
   "display_name": "Python 3 (Spyder)",
   "language": "python3",
   "name": "python3"
  },
  "language_info": {
   "codemirror_mode": {
    "name": "ipython",
    "version": 3
   },
   "file_extension": ".py",
   "mimetype": "text/x-python",
   "name": "python",
   "nbconvert_exporter": "python",
   "pygments_lexer": "ipython3",
   "version": "3.11.8"
  }
 },
 "nbformat": 4,
 "nbformat_minor": 5
}
