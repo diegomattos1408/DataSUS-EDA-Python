{
 "cells": [
  {
   "cell_type": "code",
   "execution_count": 1,
   "id": "8fbe809a-99ff-40e7-b997-0c6f7ef7442e",
   "metadata": {},
   "outputs": [
    {
     "data": {
      "text/plain": [
       "True"
      ]
     },
     "execution_count": 1,
     "metadata": {},
     "output_type": "execute_result"
    }
   ],
   "source": [
    "import pandas as pd\n",
    "\n",
    "# Load the dataframes\n",
    "df1 = pd.read_csv('tuber_states_022023_df.csv')\n",
    "df2 = pd.read_csv('tuber_states_032023_df.csv')\n",
    "df3 = pd.read_csv('tuber_states_012023_df.csv')\n",
    "\n",
    "# Check if they have the same columns\n",
    "columns_match = (set(df1.columns) == set(df2.columns)) and (set(df2.columns) == set(df3.columns))\n",
    "\n",
    "# Output the result and the columns of each dataframe if needed\n",
    "columns_match"
   ]
  },
  {
   "cell_type": "code",
   "execution_count": 2,
   "id": "98980068-46a0-4e12-bc78-793ccdcaa4ec",
   "metadata": {},
   "outputs": [
    {
     "data": {
      "text/plain": [
       "((299, 30),\n",
       "         Code  ...     Month\n",
       " 0  201010402  ...  February\n",
       " 1  202010120  ...  February\n",
       " 2  202010201  ...  February\n",
       " 3  202010228  ...  February\n",
       " 4  202010260  ...  February\n",
       " \n",
       " [5 rows x 30 columns])"
      ]
     },
     "execution_count": 2,
     "metadata": {},
     "output_type": "execute_result"
    }
   ],
   "source": [
    "# Add a month column to each DataFrame\n",
    "df1['Month'] = 'February'\n",
    "df2['Month'] = 'March'\n",
    "df3['Month'] = 'January'\n",
    "\n",
    "# Concatenate the DataFrames\n",
    "combined_df = pd.concat([df1, df2, df3], ignore_index=True)\n",
    "\n",
    "# Display the combined DataFrame shape and the first few rows to verify\n",
    "combined_df_shape = combined_df.shape\n",
    "combined_df_head = combined_df.head()\n",
    "\n",
    "combined_df_shape, combined_df_head"
   ]
  },
  {
   "cell_type": "code",
   "execution_count": 3,
   "id": "5a58ff63-f1e0-47e6-8d48-30f409badf10",
   "metadata": {},
   "outputs": [],
   "source": [
    "combined_df.to_csv('tuberculose_010203.csv')"
   ]
  }
 ],
 "metadata": {
  "kernelspec": {
   "display_name": "Python 3 (Spyder)",
   "language": "python3",
   "name": "python3"
  },
  "language_info": {
   "codemirror_mode": {
    "name": "ipython",
    "version": 3
   },
   "file_extension": ".py",
   "mimetype": "text/x-python",
   "name": "python",
   "nbconvert_exporter": "python",
   "pygments_lexer": "ipython3",
   "version": "3.11.8"
  }
 },
 "nbformat": 4,
 "nbformat_minor": 5
}
