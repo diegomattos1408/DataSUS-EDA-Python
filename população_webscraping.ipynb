{
 "cells": [
  {
   "cell_type": "code",
   "execution_count": 8,
   "id": "a4c1a8fe-00e6-40ab-8f1a-4d201f60c51c",
   "metadata": {},
   "outputs": [],
   "source": [
    "import requests\n",
    "from bs4 import BeautifulSoup\n",
    "\n",
    "# URL of the page to scrape\n",
    "url = \"https://pt.wikipedia.org/wiki/Lista_de_unidades_federativas_do_Brasil_por_popula%C3%A7%C3%A3o\"\n",
    "\n",
    "# Send a GET request to the page\n",
    "response = requests.get(url)\n",
    "\n",
    "# Parse the HTML content of the page\n",
    "soup = BeautifulSoup(response.text, 'html.parser')\n",
    "\n",
    "# The first table contains the list of federal units by population\n",
    "uf_table = soup.find_all('table', {'class': 'wikitable'})[0]\n",
    "\n",
    "# The second table (assuming there's another relevant table right after) contains region populations\n",
    "region_table = soup.find_all('table', {'class': 'wikitable'})[1]\n",
    "\n",
    "# For the UF table, we'll extract the 'Unidade Federativa' and 'População Censo 2022'\n",
    "uf_data = []\n",
    "for row in uf_table.find_all('tr')[1:]:  # skip the header row\n",
    "    cols = row.find_all('td')\n",
    "    if cols:\n",
    "        uf_name = cols[0].text.strip()\n",
    "        population = cols[2].text.strip()  # Assuming the population is in the third column\n",
    "        uf_data.append({'Unidade Federativa': uf_name, 'População Censo 2022': population})\n",
    "\n",
    "# For the region table, extract 'Região' and 'População'\n",
    "region_data = []\n",
    "for row in region_table.find_all('tr')[1:]:  # skip the header row\n",
    "    cols = row.find_all('td')\n",
    "    if cols:\n",
    "        region_name = cols[1].text.strip()\n",
    "        population = cols[2].text.strip()  # Assuming the population is in the second column\n",
    "        region_data.append({'Região': region_name, 'População': population})"
   ]
  },
  {
   "cell_type": "code",
   "execution_count": 9,
   "id": "f1659a40-5183-4869-a332-e280991c7fcc",
   "metadata": {},
   "outputs": [
    {
     "name": "stdout",
     "output_type": "stream",
     "text": [
      "Unidades Federativas Data:\n",
      "   Unidade Federativa População Censo 2022\n",
      "0                   1           44 411 238\n",
      "1                   2           20 538 718\n",
      "2                   3           16 054 524\n",
      "3                   4           14 141 626\n",
      "4                   5           11 444 380\n",
      "5                   6           10 882 965\n",
      "6                   7            9 058 931\n",
      "7                   8            8 794 957\n",
      "8                   9            8 121 025\n",
      "9                  10            7 610 361\n",
      "10                 11            7 056 495\n",
      "11                 12            6 775 805\n",
      "12                 13            3 974 687\n",
      "13                 14            3 941 613\n",
      "14                 15            3 833 712\n",
      "15                 16            3 658 649\n",
      "16                 17            3 302 729\n",
      "17                 18            3 271 199\n",
      "18                 19            3 127 683\n",
      "19                 20            2 817 381\n",
      "20                 21            2 757 013\n",
      "21                 22            2 209 558\n",
      "22                 23            1 581 196\n",
      "23                 24            1 511 460\n",
      "24                 25              830 018\n",
      "25                 26              733 759\n",
      "26                 27              636 707\n",
      "\n",
      "Região Data:\n",
      "                Região   População\n",
      "0       Região Sudeste  84 847 187\n",
      "1      Região Nordeste  54 644 582\n",
      "2           Região Sul  29 933 315\n",
      "3         Região Norte  17 349 619\n",
      "4  Região Centro-Oeste  16 287 809\n"
     ]
    }
   ],
   "source": [
    "import pandas as pd\n",
    "\n",
    "# Assuming uf_data and region_data are already populated as shown previously\n",
    "\n",
    "# Convert uf_data into a DataFrame\n",
    "uf_df = pd.DataFrame(uf_data)\n",
    "\n",
    "# Convert region_data into a DataFrame\n",
    "region_df = pd.DataFrame(region_data)\n",
    "\n",
    "# Display the DataFrames (you can also use other methods to save or manipulate them)\n",
    "print(\"Unidades Federativas Data:\")\n",
    "print(uf_df)\n",
    "print(\"\\nRegião Data:\")\n",
    "print(region_df)"
   ]
  },
  {
   "cell_type": "code",
   "execution_count": 10,
   "id": "eb3990a3-f205-4937-8502-7a9e53959498",
   "metadata": {},
   "outputs": [],
   "source": [
    "# Convert the uf_df DataFrame to a CSV file\n",
    "uf_df.to_csv('csv/unidades_federativas_2022.csv', index=False)\n",
    "\n",
    "# Convert the region_df DataFrame to a CSV file\n",
    "region_df.to_csv('csv/regioes_2022.csv', index=False)"
   ]
  }
 ],
 "metadata": {
  "kernelspec": {
   "display_name": "Python 3 (Spyder)",
   "language": "python3",
   "name": "python3"
  },
  "language_info": {
   "codemirror_mode": {
    "name": "ipython",
    "version": 3
   },
   "file_extension": ".py",
   "mimetype": "text/x-python",
   "name": "python",
   "nbconvert_exporter": "python",
   "pygments_lexer": "ipython3",
   "version": "3.11.8"
  }
 },
 "nbformat": 4,
 "nbformat_minor": 5
}
