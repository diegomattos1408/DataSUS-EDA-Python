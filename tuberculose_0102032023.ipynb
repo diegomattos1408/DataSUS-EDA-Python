{
 "cells": [
  {
   "cell_type": "code",
   "execution_count": 1,
   "id": "8fbe809a-99ff-40e7-b997-0c6f7ef7442e",
   "metadata": {},
   "outputs": [
    {
     "data": {
      "text/plain": [
       "True"
      ]
     },
     "execution_count": 1,
     "metadata": {},
     "output_type": "execute_result"
    }
   ],
   "source": [
    "import pandas as pd\n",
    "\n",
    "# Load the dataframes\n",
    "df1 = pd.read_csv('tuber_states_022023_df.csv')\n",
    "df2 = pd.read_csv('tuber_states_032023_df.csv')\n",
    "df3 = pd.read_csv('tuber_states_012023_df.csv')\n",
    "\n",
    "# Check if they have the same columns\n",
    "columns_match = (set(df1.columns) == set(df2.columns)) and (set(df2.columns) == set(df3.columns))\n",
    "\n",
    "# Output the result and the columns of each dataframe if needed\n",
    "columns_match"
   ]
  },
  {
   "cell_type": "code",
   "execution_count": 2,
   "id": "98980068-46a0-4e12-bc78-793ccdcaa4ec",
   "metadata": {},
   "outputs": [
    {
     "data": {
      "text/plain": [
       "((299, 30),\n",
       "         Code  ...     Month\n",
       " 0  201010402  ...  February\n",
       " 1  202010120  ...  February\n",
       " 2  202010201  ...  February\n",
       " 3  202010228  ...  February\n",
       " 4  202010260  ...  February\n",
       " \n",
       " [5 rows x 30 columns])"
      ]
     },
     "execution_count": 2,
     "metadata": {},
     "output_type": "execute_result"
    }
   ],
   "source": [
    "# Add a month column to each DataFrame\n",
    "df1['Month'] = 'February'\n",
    "df2['Month'] = 'March'\n",
    "df3['Month'] = 'January'\n",
    "\n",
    "# Concatenate the DataFrames\n",
    "combined_df = pd.concat([df1, df2, df3], ignore_index=True)\n",
    "\n",
    "# Display the combined DataFrame shape and the first few rows to verify\n",
    "combined_df_shape = combined_df.shape\n",
    "combined_df_head = combined_df.head()\n",
    "\n",
    "combined_df_shape, combined_df_head"
   ]
  },
  {
   "cell_type": "code",
   "execution_count": 3,
   "id": "5a58ff63-f1e0-47e6-8d48-30f409badf10",
   "metadata": {},
   "outputs": [],
   "source": [
    "combined_df.to_csv('tuberculose_010203.csv')"
   ]
  },
  {
   "cell_type": "code",
   "execution_count": 5,
   "id": "fcfff49d-4082-4e84-bedc-014b74fee106",
   "metadata": {},
   "outputs": [
    {
     "data": {
      "text/html": [
       "<div>\n",
       "<style scoped>\n",
       "    .dataframe tbody tr th:only-of-type {\n",
       "        vertical-align: middle;\n",
       "    }\n",
       "\n",
       "    .dataframe tbody tr th {\n",
       "        vertical-align: top;\n",
       "    }\n",
       "\n",
       "    .dataframe thead th {\n",
       "        text-align: right;\n",
       "    }\n",
       "</style>\n",
       "<table border=\"1\" class=\"dataframe\">\n",
       "  <thead>\n",
       "    <tr style=\"text-align: right;\">\n",
       "      <th></th>\n",
       "      <th>Code</th>\n",
       "      <th>Description</th>\n",
       "      <th>Month</th>\n",
       "      <th>North</th>\n",
       "      <th>Northeast</th>\n",
       "      <th>Central-West</th>\n",
       "      <th>Southeast</th>\n",
       "      <th>South</th>\n",
       "    </tr>\n",
       "  </thead>\n",
       "  <tbody>\n",
       "    <tr>\n",
       "      <th>0</th>\n",
       "      <td>201010402</td>\n",
       "      <td>BIOPSIA DE PLEURA (POR ASPIRACAO/AGULHA / PLEU...</td>\n",
       "      <td>February</td>\n",
       "      <td>0.0</td>\n",
       "      <td>0.0</td>\n",
       "      <td>0.0</td>\n",
       "      <td>4.0</td>\n",
       "      <td>0.0</td>\n",
       "    </tr>\n",
       "    <tr>\n",
       "      <th>1</th>\n",
       "      <td>202010120</td>\n",
       "      <td>DOSAGEM DE ACIDO URICO</td>\n",
       "      <td>February</td>\n",
       "      <td>0.0</td>\n",
       "      <td>0.0</td>\n",
       "      <td>0.0</td>\n",
       "      <td>1.0</td>\n",
       "      <td>0.0</td>\n",
       "    </tr>\n",
       "    <tr>\n",
       "      <th>2</th>\n",
       "      <td>202010201</td>\n",
       "      <td>DOSAGEM DE BILIRRUBINA TOTAL E FRACOES</td>\n",
       "      <td>February</td>\n",
       "      <td>0.0</td>\n",
       "      <td>0.0</td>\n",
       "      <td>0.0</td>\n",
       "      <td>4.0</td>\n",
       "      <td>0.0</td>\n",
       "    </tr>\n",
       "    <tr>\n",
       "      <th>3</th>\n",
       "      <td>202010228</td>\n",
       "      <td>DOSAGEM DE CALCIO IONIZAVEL</td>\n",
       "      <td>February</td>\n",
       "      <td>0.0</td>\n",
       "      <td>0.0</td>\n",
       "      <td>0.0</td>\n",
       "      <td>1.0</td>\n",
       "      <td>0.0</td>\n",
       "    </tr>\n",
       "    <tr>\n",
       "      <th>4</th>\n",
       "      <td>202010260</td>\n",
       "      <td>DOSAGEM DE CLORETO</td>\n",
       "      <td>February</td>\n",
       "      <td>0.0</td>\n",
       "      <td>0.0</td>\n",
       "      <td>0.0</td>\n",
       "      <td>1.0</td>\n",
       "      <td>0.0</td>\n",
       "    </tr>\n",
       "  </tbody>\n",
       "</table>\n",
       "</div>"
      ],
      "text/plain": [
       "        Code  ... South\n",
       "0  201010402  ...   0.0\n",
       "1  202010120  ...   0.0\n",
       "2  202010201  ...   0.0\n",
       "3  202010228  ...   0.0\n",
       "4  202010260  ...   0.0\n",
       "\n",
       "[5 rows x 8 columns]"
      ]
     },
     "execution_count": 5,
     "metadata": {},
     "output_type": "execute_result"
    }
   ],
   "source": [
    "# Define a dictionary to map each state to its respective region\n",
    "state_to_region = {\n",
    "    'Acre': 'North', 'Alagoas': 'Northeast', 'Amapá': 'North', 'Amazonas': 'North',\n",
    "    'Bahia': 'Northeast', 'Ceará': 'Northeast', 'Distrito Federal': 'Central-West',\n",
    "    'Espírito Santo': 'Southeast', 'Goiás': 'Central-West', 'Maranhão': 'Northeast',\n",
    "    'Mato Grosso': 'Central-West', 'Mato Grosso do Sul': 'Central-West', 'Minas Gerais': 'Southeast',\n",
    "    'Pará': 'North', 'Paraíba': 'Northeast', 'Paraná': 'South', 'Pernambuco': 'Northeast',\n",
    "    'Piauí': 'Northeast', 'Rio Grande do Norte': 'Northeast', 'Rio Grande do Sul': 'South',\n",
    "    'Rio de Janeiro': 'Southeast', 'Rondônia': 'North', 'Roraima': 'North', 'Santa Catarina': 'South',\n",
    "    'Sergipe': 'Northeast', 'São Paulo': 'Southeast', 'Tocantins': 'North'\n",
    "}\n",
    "\n",
    "# Create a new DataFrame to hold the aggregated data by region\n",
    "data_by_region = pd.DataFrame()\n",
    "\n",
    "# Include the 'Code', 'Description', and 'Month' columns as they are\n",
    "data_by_region[['Code', 'Description', 'Month']] = combined_df[['Code', 'Description', 'Month']]\n",
    "\n",
    "# Aggregate the data by region\n",
    "for state, region in state_to_region.items():\n",
    "    if region not in data_by_region.columns:\n",
    "        # Initialize the region column with zeros if it doesn't exist yet\n",
    "        data_by_region[region] = 0\n",
    "    # Add the state's data to its corresponding region\n",
    "    data_by_region[region] += combined_df[state]\n",
    "\n",
    "# Display the first few rows of the new dataframe to verify the transformation\n",
    "data_by_region.head()"
   ]
  },
  {
   "cell_type": "code",
   "execution_count": 6,
   "id": "66b3a396-5292-4c20-b78e-8753f2ba9c84",
   "metadata": {},
   "outputs": [
    {
     "data": {
      "text/plain": [
       "'tuberculose_by_region.csv'"
      ]
     },
     "execution_count": 6,
     "metadata": {},
     "output_type": "execute_result"
    }
   ],
   "source": [
    "# Define the path for the new CSV file\n",
    "output_file_path = 'tuberculose_by_region.csv'\n",
    "\n",
    "# Export the transformed DataFrame to a new CSV file\n",
    "data_by_region.to_csv(output_file_path, index=False)\n",
    "\n",
    "# Return the path to the user\n",
    "output_file_path"
   ]
  }
 ],
 "metadata": {
  "kernelspec": {
   "display_name": "Python 3 (Spyder)",
   "language": "python3",
   "name": "python3"
  },
  "language_info": {
   "codemirror_mode": {
    "name": "ipython",
    "version": 3
   },
   "file_extension": ".py",
   "mimetype": "text/x-python",
   "name": "python",
   "nbconvert_exporter": "python",
   "pygments_lexer": "ipython3",
   "version": "3.11.8"
  }
 },
 "nbformat": 4,
 "nbformat_minor": 5
}
