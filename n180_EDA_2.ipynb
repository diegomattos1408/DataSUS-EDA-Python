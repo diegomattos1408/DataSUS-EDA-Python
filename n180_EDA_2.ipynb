{
 "cells": [
  {
   "cell_type": "markdown",
   "id": "a2a8fdbe-657d-45ea-bc27-0803e8d05d2c",
   "metadata": {},
   "source": [
    "### Import libraries"
   ]
  },
  {
   "cell_type": "code",
   "execution_count": 1,
   "id": "82f3c6fb-5491-4461-a37a-e62b08aa25bc",
   "metadata": {},
   "outputs": [],
   "source": [
    "import pandas as pd\n",
    "import warnings\n",
    "\n",
    "# Ignoring FutureWarnings\n",
    "warnings.filterwarnings('ignore', category=FutureWarning)"
   ]
  },
  {
   "cell_type": "markdown",
   "id": "67276e28-8fca-47a2-944b-e1395c5e20a0",
   "metadata": {},
   "source": [
    "### Read the file"
   ]
  },
  {
   "cell_type": "code",
   "execution_count": 2,
   "id": "6310f71a-1a85-476e-b848-64e449ffbbd7",
   "metadata": {},
   "outputs": [
    {
     "data": {
      "text/html": [
       "<div>\n",
       "<style scoped>\n",
       "    .dataframe tbody tr th:only-of-type {\n",
       "        vertical-align: middle;\n",
       "    }\n",
       "\n",
       "    .dataframe tbody tr th {\n",
       "        vertical-align: top;\n",
       "    }\n",
       "\n",
       "    .dataframe thead th {\n",
       "        text-align: right;\n",
       "    }\n",
       "</style>\n",
       "<table border=\"1\" class=\"dataframe\">\n",
       "  <thead>\n",
       "    <tr style=\"text-align: right;\">\n",
       "      <th></th>\n",
       "      <th>Código do Procedimento Ambulatorial</th>\n",
       "      <th>CID9 Principal (APAC ou BPA-I)</th>\n",
       "      <th>Idade do paciente em anos</th>\n",
       "      <th>Sexo do paciente</th>\n",
       "      <th>Raça Cor do paciente</th>\n",
       "      <th>Valor Aprovado do procedimento</th>\n",
       "      <th>Indicador de Alta (APAC)</th>\n",
       "      <th>Indicador de Óbito</th>\n",
       "      <th>Estado</th>\n",
       "    </tr>\n",
       "  </thead>\n",
       "  <tbody>\n",
       "    <tr>\n",
       "      <th>0</th>\n",
       "      <td>604260016</td>\n",
       "      <td>N180</td>\n",
       "      <td>82</td>\n",
       "      <td>Mulher</td>\n",
       "      <td>Parda</td>\n",
       "      <td>50.40</td>\n",
       "      <td>Sim</td>\n",
       "      <td>Morto</td>\n",
       "      <td>Acre</td>\n",
       "    </tr>\n",
       "    <tr>\n",
       "      <th>1</th>\n",
       "      <td>604260016</td>\n",
       "      <td>N180</td>\n",
       "      <td>58</td>\n",
       "      <td>Homem</td>\n",
       "      <td>Parda</td>\n",
       "      <td>50.40</td>\n",
       "      <td>Sim</td>\n",
       "      <td>Morto</td>\n",
       "      <td>Acre</td>\n",
       "    </tr>\n",
       "    <tr>\n",
       "      <th>2</th>\n",
       "      <td>604260016</td>\n",
       "      <td>N180</td>\n",
       "      <td>70</td>\n",
       "      <td>Homem</td>\n",
       "      <td>Parda</td>\n",
       "      <td>10.08</td>\n",
       "      <td>Sim</td>\n",
       "      <td>Morto</td>\n",
       "      <td>Acre</td>\n",
       "    </tr>\n",
       "    <tr>\n",
       "      <th>3</th>\n",
       "      <td>604260016</td>\n",
       "      <td>N180</td>\n",
       "      <td>60</td>\n",
       "      <td>Mulher</td>\n",
       "      <td>Parda</td>\n",
       "      <td>50.40</td>\n",
       "      <td>Sim</td>\n",
       "      <td>Morto</td>\n",
       "      <td>Acre</td>\n",
       "    </tr>\n",
       "    <tr>\n",
       "      <th>4</th>\n",
       "      <td>604260016</td>\n",
       "      <td>N180</td>\n",
       "      <td>46</td>\n",
       "      <td>Mulher</td>\n",
       "      <td>Parda</td>\n",
       "      <td>50.40</td>\n",
       "      <td>Sim</td>\n",
       "      <td>Morto</td>\n",
       "      <td>Acre</td>\n",
       "    </tr>\n",
       "  </tbody>\n",
       "</table>\n",
       "</div>"
      ],
      "text/plain": [
       "   Código do Procedimento Ambulatorial  ... Estado\n",
       "0                            604260016  ...   Acre\n",
       "1                            604260016  ...   Acre\n",
       "2                            604260016  ...   Acre\n",
       "3                            604260016  ...   Acre\n",
       "4                            604260016  ...   Acre\n",
       "\n",
       "[5 rows x 9 columns]"
      ]
     },
     "execution_count": 2,
     "metadata": {},
     "output_type": "execute_result"
    }
   ],
   "source": [
    "df = pd.read_csv('csv/all_states_data.csv')\n",
    "df.head()"
   ]
  },
  {
   "cell_type": "markdown",
   "id": "8057844f-e8f1-4c02-bd83-10f9da1d3d2b",
   "metadata": {},
   "source": [
    "## Grouping by 'Código do Procedimento Ambulatorial' and summing 'Valor Aprovado do procedimento'"
   ]
  },
  {
   "cell_type": "code",
   "execution_count": 3,
   "id": "9e61f0cd-a0b1-4377-b645-f982b786edae",
   "metadata": {},
   "outputs": [
    {
     "data": {
      "text/html": [
       "<div>\n",
       "<style scoped>\n",
       "    .dataframe tbody tr th:only-of-type {\n",
       "        vertical-align: middle;\n",
       "    }\n",
       "\n",
       "    .dataframe tbody tr th {\n",
       "        vertical-align: top;\n",
       "    }\n",
       "\n",
       "    .dataframe thead th {\n",
       "        text-align: right;\n",
       "    }\n",
       "</style>\n",
       "<table border=\"1\" class=\"dataframe\">\n",
       "  <thead>\n",
       "    <tr style=\"text-align: right;\">\n",
       "      <th></th>\n",
       "      <th>Código do Procedimento Ambulatorial</th>\n",
       "      <th>Valor Aprovado do procedimento</th>\n",
       "    </tr>\n",
       "  </thead>\n",
       "  <tbody>\n",
       "    <tr>\n",
       "      <th>0</th>\n",
       "      <td>201010437</td>\n",
       "      <td>184,76</td>\n",
       "    </tr>\n",
       "    <tr>\n",
       "      <th>1</th>\n",
       "      <td>201010542</td>\n",
       "      <td>97,00</td>\n",
       "    </tr>\n",
       "    <tr>\n",
       "      <th>2</th>\n",
       "      <td>202010023</td>\n",
       "      <td>66,33</td>\n",
       "    </tr>\n",
       "    <tr>\n",
       "      <th>3</th>\n",
       "      <td>202010040</td>\n",
       "      <td>3,63</td>\n",
       "    </tr>\n",
       "    <tr>\n",
       "      <th>4</th>\n",
       "      <td>202010120</td>\n",
       "      <td>344,10</td>\n",
       "    </tr>\n",
       "  </tbody>\n",
       "</table>\n",
       "</div>"
      ],
      "text/plain": [
       "   Código do Procedimento Ambulatorial Valor Aprovado do procedimento\n",
       "0                            201010437                         184,76\n",
       "1                            201010542                          97,00\n",
       "2                            202010023                          66,33\n",
       "3                            202010040                           3,63\n",
       "4                            202010120                         344,10"
      ]
     },
     "execution_count": 3,
     "metadata": {},
     "output_type": "execute_result"
    }
   ],
   "source": [
    "# Grouping by 'Código do Procedimento Ambulatorial' and summing 'Valor Aprovado do procedimento'\n",
    "codigo_valor = df.groupby('Código do Procedimento Ambulatorial')['Valor Aprovado do procedimento'].sum().reset_index()\n",
    "\n",
    "# Convert 'Valor Aprovado do procedimento' to string with comma as decimal separator\n",
    "codigo_valor['Valor Aprovado do procedimento'] = codigo_valor['Valor Aprovado do procedimento'].apply(lambda x: f\"{x:.2f}\".replace('.', ','))\n",
    "\n",
    "codigo_valor.head()"
   ]
  },
  {
   "cell_type": "markdown",
   "id": "95c62a25-1a99-4434-9aa5-d74ad6546e6e",
   "metadata": {},
   "source": [
    "## Grouping by 'Código do Procedimento Ambulatorial' and summing 'Valor Aprovado do procedimento'"
   ]
  },
  {
   "cell_type": "code",
   "execution_count": 4,
   "id": "e324dd9a-f86b-4f1d-9a7c-83936f300b3c",
   "metadata": {},
   "outputs": [
    {
     "data": {
      "text/html": [
       "<div>\n",
       "<style scoped>\n",
       "    .dataframe tbody tr th:only-of-type {\n",
       "        vertical-align: middle;\n",
       "    }\n",
       "\n",
       "    .dataframe tbody tr th {\n",
       "        vertical-align: top;\n",
       "    }\n",
       "\n",
       "    .dataframe thead th {\n",
       "        text-align: right;\n",
       "    }\n",
       "</style>\n",
       "<table border=\"1\" class=\"dataframe\">\n",
       "  <thead>\n",
       "    <tr style=\"text-align: right;\">\n",
       "      <th></th>\n",
       "      <th>Estado</th>\n",
       "      <th>Valor Aprovado do procedimento</th>\n",
       "    </tr>\n",
       "  </thead>\n",
       "  <tbody>\n",
       "    <tr>\n",
       "      <th>0</th>\n",
       "      <td>Acre</td>\n",
       "      <td>1406,16</td>\n",
       "    </tr>\n",
       "    <tr>\n",
       "      <th>1</th>\n",
       "      <td>Alagoas</td>\n",
       "      <td>105667,31</td>\n",
       "    </tr>\n",
       "    <tr>\n",
       "      <th>2</th>\n",
       "      <td>Amapa</td>\n",
       "      <td>2669,92</td>\n",
       "    </tr>\n",
       "    <tr>\n",
       "      <th>3</th>\n",
       "      <td>Amazonas</td>\n",
       "      <td>498534,36</td>\n",
       "    </tr>\n",
       "    <tr>\n",
       "      <th>4</th>\n",
       "      <td>Bahia</td>\n",
       "      <td>361532,25</td>\n",
       "    </tr>\n",
       "  </tbody>\n",
       "</table>\n",
       "</div>"
      ],
      "text/plain": [
       "     Estado Valor Aprovado do procedimento\n",
       "0      Acre                        1406,16\n",
       "1   Alagoas                      105667,31\n",
       "2     Amapa                        2669,92\n",
       "3  Amazonas                      498534,36\n",
       "4     Bahia                      361532,25"
      ]
     },
     "execution_count": 4,
     "metadata": {},
     "output_type": "execute_result"
    }
   ],
   "source": [
    "# Grouping by 'Código do Procedimento Ambulatorial' and summing 'Valor Aprovado do procedimento'\n",
    "estado_valor = df.groupby('Estado')['Valor Aprovado do procedimento'].sum().reset_index()\n",
    "\n",
    "# Convert 'Valor Aprovado do procedimento' to string with comma as decimal separator\n",
    "estado_valor['Valor Aprovado do procedimento'] = estado_valor['Valor Aprovado do procedimento'].apply(lambda x: f\"{x:.2f}\".replace('.', ','))\n",
    "\n",
    "estado_valor.head()"
   ]
  },
  {
   "cell_type": "markdown",
   "id": "26a313e6-d446-4528-bc61-5ebef0f67d97",
   "metadata": {},
   "source": [
    "## Grouping by 'Código do Procedimento Ambulatorial' and summing 'Valor Aprovado do procedimento'"
   ]
  },
  {
   "cell_type": "code",
   "execution_count": 5,
   "id": "5063ecdd-35b7-4eb5-8fec-0a39e71e2280",
   "metadata": {},
   "outputs": [
    {
     "data": {
      "text/html": [
       "<div>\n",
       "<style scoped>\n",
       "    .dataframe tbody tr th:only-of-type {\n",
       "        vertical-align: middle;\n",
       "    }\n",
       "\n",
       "    .dataframe tbody tr th {\n",
       "        vertical-align: top;\n",
       "    }\n",
       "\n",
       "    .dataframe thead th {\n",
       "        text-align: right;\n",
       "    }\n",
       "</style>\n",
       "<table border=\"1\" class=\"dataframe\">\n",
       "  <thead>\n",
       "    <tr style=\"text-align: right;\">\n",
       "      <th></th>\n",
       "      <th>Sexo do paciente</th>\n",
       "      <th>Valor Aprovado do procedimento</th>\n",
       "    </tr>\n",
       "  </thead>\n",
       "  <tbody>\n",
       "    <tr>\n",
       "      <th>0</th>\n",
       "      <td>Homem</td>\n",
       "      <td>3260259,87</td>\n",
       "    </tr>\n",
       "    <tr>\n",
       "      <th>1</th>\n",
       "      <td>Mulher</td>\n",
       "      <td>2596596,58</td>\n",
       "    </tr>\n",
       "  </tbody>\n",
       "</table>\n",
       "</div>"
      ],
      "text/plain": [
       "  Sexo do paciente Valor Aprovado do procedimento\n",
       "0            Homem                     3260259,87\n",
       "1           Mulher                     2596596,58"
      ]
     },
     "execution_count": 5,
     "metadata": {},
     "output_type": "execute_result"
    }
   ],
   "source": [
    "# Grouping by 'Código do Procedimento Ambulatorial' and summing 'Valor Aprovado do procedimento'\n",
    "gender_valor = df.groupby('Sexo do paciente')['Valor Aprovado do procedimento'].sum().reset_index()\n",
    "\n",
    "# Convert 'Valor Aprovado do procedimento' to string with comma as decimal separator\n",
    "gender_valor['Valor Aprovado do procedimento'] = gender_valor['Valor Aprovado do procedimento'].apply(lambda x: f\"{x:.2f}\".replace('.', ','))\n",
    "\n",
    "gender_valor.head()"
   ]
  },
  {
   "cell_type": "markdown",
   "id": "e6a3d900-eaeb-426b-b211-1024aaf7bcc5",
   "metadata": {},
   "source": [
    "### Save as a csv file"
   ]
  },
  {
   "cell_type": "code",
   "execution_count": 6,
   "id": "864f2414-65cd-42be-9bfd-bd3ae13998bb",
   "metadata": {},
   "outputs": [],
   "source": [
    "gender_valor.to_csv('csv/gender_valor.csv', index=False)\n",
    "estado_valor.to_csv('csv/estado_valor.csv', index=False)\n",
    "codigo_valor.to_csv('csv/codigo_valor.csv', index=False)"
   ]
  },
  {
   "cell_type": "markdown",
   "id": "779e0484-8f27-458a-b11f-b86348a5e49e",
   "metadata": {},
   "source": [
    "## Group by 'Idade do paciente em anos' and 'Indicador de Óbito', then count the occurrences"
   ]
  },
  {
   "cell_type": "code",
   "execution_count": null,
   "id": "0f9fdb79-0f53-43cd-b3d9-1ffbf31c89d3",
   "metadata": {},
   "outputs": [],
   "source": [
    "# Group by 'Idade do paciente em anos' and 'Indicador de Óbito', then count the occurrences\n",
    "grouped = df.groupby(['Idade do paciente em anos', 'Indicador de Óbito']).size().unstack(fill_value=0)\n",
    "\n",
    "# This will give you a DataFrame where the index is 'Idade do paciente em anos', \n",
    "# and the columns are 'Morto' and 'Vivo', with their respective counts.\n",
    "\n",
    "# If you need to reset the index to have 'Idade do paciente em anos' as a column, you can do:\n",
    "grouped = grouped.reset_index()\n",
    "\n",
    "# Rename the columns for clarity if necessary\n",
    "grouped.columns = ['Idade do paciente em anos', 'Frequência Mortos', 'Frequência Vivos']\n",
    "\n",
    "grouped"
   ]
  },
  {
   "cell_type": "markdown",
   "id": "4febaf3b-cac5-4fd5-a290-ac74cfe62530",
   "metadata": {},
   "source": [
    "## Create the Faixa Etária df"
   ]
  },
  {
   "cell_type": "code",
   "execution_count": 8,
   "id": "f1d53d53-3fbc-4069-92e4-7f6a32a5c7d8",
   "metadata": {},
   "outputs": [
    {
     "data": {
      "text/html": [
       "<div>\n",
       "<style scoped>\n",
       "    .dataframe tbody tr th:only-of-type {\n",
       "        vertical-align: middle;\n",
       "    }\n",
       "\n",
       "    .dataframe tbody tr th {\n",
       "        vertical-align: top;\n",
       "    }\n",
       "\n",
       "    .dataframe thead th {\n",
       "        text-align: right;\n",
       "    }\n",
       "</style>\n",
       "<table border=\"1\" class=\"dataframe\">\n",
       "  <thead>\n",
       "    <tr style=\"text-align: right;\">\n",
       "      <th></th>\n",
       "      <th>Faixa Etária</th>\n",
       "      <th>Frequency of Óbito</th>\n",
       "    </tr>\n",
       "  </thead>\n",
       "  <tbody>\n",
       "    <tr>\n",
       "      <th>0</th>\n",
       "      <td>0-10</td>\n",
       "      <td>892</td>\n",
       "    </tr>\n",
       "    <tr>\n",
       "      <th>1</th>\n",
       "      <td>11-20</td>\n",
       "      <td>2450</td>\n",
       "    </tr>\n",
       "    <tr>\n",
       "      <th>2</th>\n",
       "      <td>21-30</td>\n",
       "      <td>14683</td>\n",
       "    </tr>\n",
       "    <tr>\n",
       "      <th>3</th>\n",
       "      <td>31-40</td>\n",
       "      <td>31299</td>\n",
       "    </tr>\n",
       "    <tr>\n",
       "      <th>4</th>\n",
       "      <td>41-50</td>\n",
       "      <td>52894</td>\n",
       "    </tr>\n",
       "    <tr>\n",
       "      <th>5</th>\n",
       "      <td>51-60</td>\n",
       "      <td>72594</td>\n",
       "    </tr>\n",
       "    <tr>\n",
       "      <th>6</th>\n",
       "      <td>61-70</td>\n",
       "      <td>78342</td>\n",
       "    </tr>\n",
       "    <tr>\n",
       "      <th>7</th>\n",
       "      <td>71-80</td>\n",
       "      <td>51727</td>\n",
       "    </tr>\n",
       "    <tr>\n",
       "      <th>8</th>\n",
       "      <td>81-90</td>\n",
       "      <td>19901</td>\n",
       "    </tr>\n",
       "    <tr>\n",
       "      <th>9</th>\n",
       "      <td>91-100</td>\n",
       "      <td>2999</td>\n",
       "    </tr>\n",
       "  </tbody>\n",
       "</table>\n",
       "</div>"
      ],
      "text/plain": [
       "  Faixa Etária  Frequency of Óbito\n",
       "0         0-10                 892\n",
       "1        11-20                2450\n",
       "2        21-30               14683\n",
       "3        31-40               31299\n",
       "4        41-50               52894\n",
       "5        51-60               72594\n",
       "6        61-70               78342\n",
       "7        71-80               51727\n",
       "8        81-90               19901\n",
       "9       91-100                2999"
      ]
     },
     "execution_count": 8,
     "metadata": {},
     "output_type": "execute_result"
    }
   ],
   "source": [
    "# Define age bins and labels for the age groups\n",
    "bins = [0, 10, 20, 30, 40, 50, 60, 70, 80, 90, 100]\n",
    "labels = ['0-10', '11-20', '21-30', '31-40', '41-50', '51-60', '61-70', '71-80', '81-90', '91-100']\n",
    "\n",
    "# Filter for 'Indicador de Óbito' == 'Morto' with .copy() to avoid SettingWithCopyWarning\n",
    "filtered_df = df[df['Indicador de Óbito'] == 'Morto'].copy()\n",
    "\n",
    "# Use .loc to safely create 'Faixa Etária' column on the filtered DataFrame\n",
    "filtered_df.loc[:, 'Faixa Etária'] = pd.cut(filtered_df['Idade do paciente em anos'], bins=bins, labels=labels, right=False)\n",
    "\n",
    "# Group by 'Faixa Etária' and count occurrences, with observed=True to handle categorical data properly\n",
    "faixa_etaria_counts = filtered_df.groupby('Faixa Etária', observed=True).size().reset_index(name='Frequency of Óbito')\n",
    "\n",
    "faixa_etaria_counts"
   ]
  },
  {
   "cell_type": "markdown",
   "id": "bb2dd499-ece9-4c21-8e60-9ea4a7a4baad",
   "metadata": {},
   "source": [
    "### Save as a csv file"
   ]
  },
  {
   "cell_type": "code",
   "execution_count": 9,
   "id": "178cf873-9009-42c8-a3fa-702fb2314ee4",
   "metadata": {},
   "outputs": [],
   "source": [
    "faixa_etaria_counts.to_csv('csv/faixa_idade.csv', index=False)"
   ]
  },
  {
   "cell_type": "markdown",
   "id": "769f8606-c17b-498f-934c-f007fa21991a",
   "metadata": {},
   "source": [
    "### Read the files for more analysis"
   ]
  },
  {
   "cell_type": "code",
   "execution_count": 10,
   "id": "f753abf2-0fdc-4a99-97c6-11dc6c708247",
   "metadata": {},
   "outputs": [],
   "source": [
    "sum_valor = pd.read_csv('csv/sum_valor.csv')\n",
    "average_idade = pd.read_csv('csv/average_idade.csv')\n",
    "gender_valor = pd.read_csv('csv/gender_valor.csv')\n",
    "raca_cor_freq = pd.read_csv('csv/raca_cor_freq.csv')"
   ]
  },
  {
   "cell_type": "markdown",
   "id": "e3446d81-5880-45ff-b919-c7bf7cae2b82",
   "metadata": {},
   "source": [
    "### Correcting the format of the 'Idade média em anos' column by replacing ',' with '.' and converting to float"
   ]
  },
  {
   "cell_type": "code",
   "execution_count": 11,
   "id": "535b393f-2d8e-405c-9b58-fadb79ea8567",
   "metadata": {},
   "outputs": [],
   "source": [
    "# Correcting the format of the 'Idade média em anos' column by replacing ',' with '.' and converting to float\n",
    "average_idade['Idade média em anos'] = average_idade['Idade média em anos'].str.replace(',', '.').astype(float)\n",
    "\n",
    "# Calculating the average age now with the corrected data\n",
    "average_idade_corrected = average_idade['Idade média em anos'].mean()"
   ]
  },
  {
   "cell_type": "markdown",
   "id": "2cfc356b-42f5-4ef2-bc81-8fb1a5414e44",
   "metadata": {},
   "source": [
    "## Create the dataframe with all info from Brazil of most or max values"
   ]
  },
  {
   "cell_type": "code",
   "execution_count": 12,
   "id": "1c0d3a5a-601a-4f7e-86c2-d85772cadf4c",
   "metadata": {},
   "outputs": [
    {
     "data": {
      "text/plain": [
       "{'Total sum_valor': 5856856.450000001,\n",
       " 'Média idade (average idade)': 55.23370370370371,\n",
       " 'Proportion (Homem/Mulher)': 1.2555896803961746,\n",
       " 'Most affected Etnia': 'Branca',\n",
       " 'Etnia Frequency': 137168}"
      ]
     },
     "execution_count": 12,
     "metadata": {},
     "output_type": "execute_result"
    }
   ],
   "source": [
    "# For sum_valor\n",
    "sum_valor['Valor Aprovado do procedimento'] = sum_valor['Valor Aprovado do procedimento'].str.replace(',', '.').astype(float)\n",
    "\n",
    "# For average_idade (assuming it might not need correction but checking if numeric conversion is required)\n",
    "average_idade['Idade média em anos'] = pd.to_numeric(average_idade['Idade média em anos'], errors='coerce')\n",
    "\n",
    "# Correcting gender_valor if needed\n",
    "gender_valor['Valor Aprovado do procedimento'] = gender_valor['Valor Aprovado do procedimento'].str.replace(',', '.').astype(float)\n",
    "\n",
    "# Now, we can proceed with the calculations again with the corrected data\n",
    "total_sum_valor_corrected = sum_valor['Valor Aprovado do procedimento'].sum()\n",
    "\n",
    "# Gender\n",
    "proportion_homem_mulher_corrected = gender_valor.loc[gender_valor['Sexo do paciente'] == 'Homem', 'Valor Aprovado do procedimento'].sum() / \\\n",
    "                                    gender_valor.loc[gender_valor['Sexo do paciente'] == 'Mulher', 'Valor Aprovado do procedimento'].sum()\n",
    "\n",
    "# For most affected etnia, we need to sum up all etnia frequencies across states and find the maximum\n",
    "raca_cor_freq_melted = raca_cor_freq.melt(id_vars='Estado', value_vars=['Amarela', 'Branca', 'Indígena', 'Parda', 'Preta', 'Sem informação'], \n",
    "                                          var_name='Raca', value_name='Frequencia')\n",
    "most_affected_raca = raca_cor_freq_melted.groupby('Raca')['Frequencia'].sum().idxmax()\n",
    "most_affected_raca_freq = raca_cor_freq_melted.groupby('Raca')['Frequencia'].sum().max()\n",
    "\n",
    "summary_table_corrected_with_comma_fix = {\n",
    "    \"Total sum_valor\": total_sum_valor_corrected,\n",
    "    \"Média idade (average idade)\": average_idade_corrected,\n",
    "    \"Proportion (Homem/Mulher)\": proportion_homem_mulher_corrected,\n",
    "    \"Most affected Etnia\": most_affected_raca,\n",
    "    \"Etnia Frequency\": most_affected_raca_freq\n",
    "}\n",
    "\n",
    "summary_table_corrected_with_comma_fix"
   ]
  },
  {
   "cell_type": "code",
   "execution_count": 13,
   "id": "1064ba75-9e3a-414c-8b79-d6a62252a133",
   "metadata": {},
   "outputs": [
    {
     "data": {
      "text/html": [
       "<div>\n",
       "<style scoped>\n",
       "    .dataframe tbody tr th:only-of-type {\n",
       "        vertical-align: middle;\n",
       "    }\n",
       "\n",
       "    .dataframe tbody tr th {\n",
       "        vertical-align: top;\n",
       "    }\n",
       "\n",
       "    .dataframe thead th {\n",
       "        text-align: right;\n",
       "    }\n",
       "</style>\n",
       "<table border=\"1\" class=\"dataframe\">\n",
       "  <thead>\n",
       "    <tr style=\"text-align: right;\">\n",
       "      <th></th>\n",
       "      <th>Total sum_valor</th>\n",
       "      <th>Média idade (average idade)</th>\n",
       "      <th>Proportion (Homem/Mulher)</th>\n",
       "      <th>Most affected Raça</th>\n",
       "      <th>Etnia Frequency</th>\n",
       "    </tr>\n",
       "  </thead>\n",
       "  <tbody>\n",
       "    <tr>\n",
       "      <th>0</th>\n",
       "      <td>5856856,45</td>\n",
       "      <td>55,23</td>\n",
       "      <td>1,26</td>\n",
       "      <td>Branca</td>\n",
       "      <td>137168</td>\n",
       "    </tr>\n",
       "  </tbody>\n",
       "</table>\n",
       "</div>"
      ],
      "text/plain": [
       "  Total sum_valor  ... Etnia Frequency\n",
       "0      5856856,45  ...          137168\n",
       "\n",
       "[1 rows x 5 columns]"
      ]
     },
     "execution_count": 13,
     "metadata": {},
     "output_type": "execute_result"
    }
   ],
   "source": [
    "# Converting numerical values to strings with commas as decimal separators\n",
    "summary_data_adjusted = {\n",
    "    'Total sum_valor': ['{:.2f}'.format(5856856.450000001).replace('.', ',')],\n",
    "    'Média idade (average idade)': ['{:.2f}'.format(55.23370370370371).replace('.', ',')],\n",
    "    'Proportion (Homem/Mulher)': ['{:.2f}'.format(1.2555896803961746).replace('.', ',')],\n",
    "    'Most affected Raça': ['Branca'],\n",
    "    'Etnia Frequency': [137168]  # Keeping as integer, assuming no need for decimal formatting\n",
    "}\n",
    "\n",
    "# Converting to DataFrame\n",
    "summary_df_adjusted = pd.DataFrame(summary_data_adjusted)\n",
    "\n",
    "summary_df_adjusted"
   ]
  },
  {
   "cell_type": "markdown",
   "id": "e19ace6b-9439-4766-b11c-db6ddcba42e4",
   "metadata": {},
   "source": [
    "## Save as a csv file"
   ]
  },
  {
   "cell_type": "code",
   "execution_count": 14,
   "id": "1259415a-cfa6-49b4-888c-af9fcaa2b31a",
   "metadata": {},
   "outputs": [],
   "source": [
    "summary_df_adjusted.to_csv('csv/summary_df.csv', index=False, decimal=',')"
   ]
  },
  {
   "cell_type": "markdown",
   "id": "376ea43d-b3eb-465a-a222-f275a73e43e2",
   "metadata": {},
   "source": [
    "### Create a df for the most procedure from Brazil for n180 with the highest value"
   ]
  },
  {
   "cell_type": "code",
   "execution_count": 15,
   "id": "488d299b-38fa-4e33-9a96-835888c8dd5f",
   "metadata": {},
   "outputs": [
    {
     "data": {
      "text/html": [
       "<div>\n",
       "<style scoped>\n",
       "    .dataframe tbody tr th:only-of-type {\n",
       "        vertical-align: middle;\n",
       "    }\n",
       "\n",
       "    .dataframe tbody tr th {\n",
       "        vertical-align: top;\n",
       "    }\n",
       "\n",
       "    .dataframe thead th {\n",
       "        text-align: right;\n",
       "    }\n",
       "</style>\n",
       "<table border=\"1\" class=\"dataframe\">\n",
       "  <thead>\n",
       "    <tr style=\"text-align: right;\">\n",
       "      <th></th>\n",
       "      <th>Estado</th>\n",
       "      <th>Código do Procedimento Ambulatorial</th>\n",
       "    </tr>\n",
       "  </thead>\n",
       "  <tbody>\n",
       "    <tr>\n",
       "      <th>0</th>\n",
       "      <td>Acre</td>\n",
       "      <td>604470045</td>\n",
       "    </tr>\n",
       "    <tr>\n",
       "      <th>1</th>\n",
       "      <td>Alagoas</td>\n",
       "      <td>604470045</td>\n",
       "    </tr>\n",
       "    <tr>\n",
       "      <th>2</th>\n",
       "      <td>Amapa</td>\n",
       "      <td>604470045</td>\n",
       "    </tr>\n",
       "    <tr>\n",
       "      <th>3</th>\n",
       "      <td>Amazonas</td>\n",
       "      <td>604470045</td>\n",
       "    </tr>\n",
       "    <tr>\n",
       "      <th>4</th>\n",
       "      <td>Bahia</td>\n",
       "      <td>604470045</td>\n",
       "    </tr>\n",
       "    <tr>\n",
       "      <th>5</th>\n",
       "      <td>Ceara</td>\n",
       "      <td>604470045</td>\n",
       "    </tr>\n",
       "    <tr>\n",
       "      <th>6</th>\n",
       "      <td>Distrito Federal</td>\n",
       "      <td>604470045</td>\n",
       "    </tr>\n",
       "    <tr>\n",
       "      <th>7</th>\n",
       "      <td>Espirito Santo</td>\n",
       "      <td>604470045</td>\n",
       "    </tr>\n",
       "    <tr>\n",
       "      <th>8</th>\n",
       "      <td>Goias</td>\n",
       "      <td>604470045</td>\n",
       "    </tr>\n",
       "    <tr>\n",
       "      <th>9</th>\n",
       "      <td>Maranhao</td>\n",
       "      <td>604470045</td>\n",
       "    </tr>\n",
       "    <tr>\n",
       "      <th>10</th>\n",
       "      <td>Mato Grosso</td>\n",
       "      <td>604470045</td>\n",
       "    </tr>\n",
       "    <tr>\n",
       "      <th>11</th>\n",
       "      <td>Mato Grosso do Sul</td>\n",
       "      <td>604470045</td>\n",
       "    </tr>\n",
       "    <tr>\n",
       "      <th>12</th>\n",
       "      <td>Minas Gerais</td>\n",
       "      <td>604470045</td>\n",
       "    </tr>\n",
       "    <tr>\n",
       "      <th>13</th>\n",
       "      <td>Para</td>\n",
       "      <td>604470045</td>\n",
       "    </tr>\n",
       "    <tr>\n",
       "      <th>14</th>\n",
       "      <td>Paraiba</td>\n",
       "      <td>604470045</td>\n",
       "    </tr>\n",
       "    <tr>\n",
       "      <th>15</th>\n",
       "      <td>Parana</td>\n",
       "      <td>604470045</td>\n",
       "    </tr>\n",
       "    <tr>\n",
       "      <th>16</th>\n",
       "      <td>Pernambuco</td>\n",
       "      <td>604470045</td>\n",
       "    </tr>\n",
       "    <tr>\n",
       "      <th>17</th>\n",
       "      <td>Piaui</td>\n",
       "      <td>604470045</td>\n",
       "    </tr>\n",
       "    <tr>\n",
       "      <th>18</th>\n",
       "      <td>Rio Grande do Norte</td>\n",
       "      <td>604470045</td>\n",
       "    </tr>\n",
       "    <tr>\n",
       "      <th>19</th>\n",
       "      <td>Rio Grande do Sul</td>\n",
       "      <td>604470045</td>\n",
       "    </tr>\n",
       "    <tr>\n",
       "      <th>20</th>\n",
       "      <td>Rio de Janeiro</td>\n",
       "      <td>604470045</td>\n",
       "    </tr>\n",
       "    <tr>\n",
       "      <th>21</th>\n",
       "      <td>Rondonia</td>\n",
       "      <td>401010015</td>\n",
       "    </tr>\n",
       "    <tr>\n",
       "      <th>22</th>\n",
       "      <td>Roraima</td>\n",
       "      <td>604470045</td>\n",
       "    </tr>\n",
       "    <tr>\n",
       "      <th>23</th>\n",
       "      <td>Santa Catarina</td>\n",
       "      <td>604470045</td>\n",
       "    </tr>\n",
       "    <tr>\n",
       "      <th>24</th>\n",
       "      <td>Sao Paulo</td>\n",
       "      <td>604470045</td>\n",
       "    </tr>\n",
       "    <tr>\n",
       "      <th>25</th>\n",
       "      <td>Sergipe</td>\n",
       "      <td>604470045</td>\n",
       "    </tr>\n",
       "    <tr>\n",
       "      <th>26</th>\n",
       "      <td>Tocantins</td>\n",
       "      <td>604470045</td>\n",
       "    </tr>\n",
       "  </tbody>\n",
       "</table>\n",
       "</div>"
      ],
      "text/plain": [
       "                 Estado  Código do Procedimento Ambulatorial\n",
       "0                  Acre                            604470045\n",
       "1               Alagoas                            604470045\n",
       "2                 Amapa                            604470045\n",
       "3              Amazonas                            604470045\n",
       "4                 Bahia                            604470045\n",
       "5                 Ceara                            604470045\n",
       "6      Distrito Federal                            604470045\n",
       "7        Espirito Santo                            604470045\n",
       "8                 Goias                            604470045\n",
       "9              Maranhao                            604470045\n",
       "10          Mato Grosso                            604470045\n",
       "11   Mato Grosso do Sul                            604470045\n",
       "12         Minas Gerais                            604470045\n",
       "13                 Para                            604470045\n",
       "14              Paraiba                            604470045\n",
       "15               Parana                            604470045\n",
       "16           Pernambuco                            604470045\n",
       "17                Piaui                            604470045\n",
       "18  Rio Grande do Norte                            604470045\n",
       "19    Rio Grande do Sul                            604470045\n",
       "20       Rio de Janeiro                            604470045\n",
       "21             Rondonia                            401010015\n",
       "22              Roraima                            604470045\n",
       "23       Santa Catarina                            604470045\n",
       "24            Sao Paulo                            604470045\n",
       "25              Sergipe                            604470045\n",
       "26            Tocantins                            604470045"
      ]
     },
     "execution_count": 15,
     "metadata": {},
     "output_type": "execute_result"
    }
   ],
   "source": [
    "# Step 1: Find the most frequent Código do Procedimento Ambulatorial for each Estado\n",
    "most_frequent_codes = df.groupby('Estado')['Código do Procedimento Ambulatorial'].agg(lambda x: x.mode()[0]).reset_index()\n",
    "\n",
    "most_frequent_codes"
   ]
  },
  {
   "cell_type": "code",
   "execution_count": 16,
   "id": "e23fb7e4-0694-4b33-89c1-0b3beac30590",
   "metadata": {},
   "outputs": [],
   "source": [
    "# Step 2: Merge to get the Valor Aprovado for these codes\n",
    "# This ensures we match the Estado and Código do Procedimento Ambulatorial to get the correct Valor Aprovado\n",
    "result_df = pd.merge(most_frequent_codes, df.drop_duplicates(['Estado', 'Código do Procedimento Ambulatorial']), on=['Estado', 'Código do Procedimento Ambulatorial'], how='left')"
   ]
  },
  {
   "cell_type": "code",
   "execution_count": 17,
   "id": "f1af6372-8350-40d8-a42e-af4d159d102b",
   "metadata": {},
   "outputs": [],
   "source": [
    "# Step 3: Select the relevant columns to form the new DataFrame\n",
    "proc_est_valor = result_df[['Estado', 'Código do Procedimento Ambulatorial', 'Valor Aprovado do procedimento']]"
   ]
  },
  {
   "cell_type": "markdown",
   "id": "d20f5036-3001-475f-9e10-509b2abc0b20",
   "metadata": {},
   "source": [
    "### Finding the top 5 unique 'Valor do procedimento aprovado' values"
   ]
  },
  {
   "cell_type": "code",
   "execution_count": 18,
   "id": "068026f2-915a-481b-a624-dc2b102b9939",
   "metadata": {},
   "outputs": [
    {
     "name": "stderr",
     "output_type": "stream",
     "text": [
      "C:\\Users\\digui\\AppData\\Local\\Temp\\ipykernel_27820\\280913733.py:21: SettingWithCopyWarning: \n",
      "A value is trying to be set on a copy of a slice from a DataFrame.\n",
      "Try using .loc[row_indexer,col_indexer] = value instead\n",
      "\n",
      "See the caveats in the documentation: https://pandas.pydata.org/pandas-docs/stable/user_guide/indexing.html#returning-a-view-versus-a-copy\n",
      "  pro_value['Código do Procedimento Ambulatorial'] = pro_value['Código do Procedimento Ambulatorial'].replace(803010087, 'Médico Cirurgião Geral')\n"
     ]
    },
    {
     "data": {
      "text/html": [
       "<div>\n",
       "<style scoped>\n",
       "    .dataframe tbody tr th:only-of-type {\n",
       "        vertical-align: middle;\n",
       "    }\n",
       "\n",
       "    .dataframe tbody tr th {\n",
       "        vertical-align: top;\n",
       "    }\n",
       "\n",
       "    .dataframe thead th {\n",
       "        text-align: right;\n",
       "    }\n",
       "</style>\n",
       "<table border=\"1\" class=\"dataframe\">\n",
       "  <thead>\n",
       "    <tr style=\"text-align: right;\">\n",
       "      <th></th>\n",
       "      <th>Código do Procedimento Ambulatorial</th>\n",
       "      <th>Valor Aprovado do procedimento</th>\n",
       "    </tr>\n",
       "  </thead>\n",
       "  <tbody>\n",
       "    <tr>\n",
       "      <th>8370</th>\n",
       "      <td>Médico Cirurgião Geral</td>\n",
       "      <td>3993.0</td>\n",
       "    </tr>\n",
       "    <tr>\n",
       "      <th>9991</th>\n",
       "      <td>Médico Cirurgião Geral</td>\n",
       "      <td>3448.5</td>\n",
       "    </tr>\n",
       "    <tr>\n",
       "      <th>9932</th>\n",
       "      <td>Médico Cirurgião Geral</td>\n",
       "      <td>3085.5</td>\n",
       "    </tr>\n",
       "    <tr>\n",
       "      <th>8452</th>\n",
       "      <td>Médico Cirurgião Geral</td>\n",
       "      <td>2904.0</td>\n",
       "    </tr>\n",
       "    <tr>\n",
       "      <th>10018</th>\n",
       "      <td>Médico Cirurgião Geral</td>\n",
       "      <td>2722.5</td>\n",
       "    </tr>\n",
       "  </tbody>\n",
       "</table>\n",
       "</div>"
      ],
      "text/plain": [
       "      Código do Procedimento Ambulatorial  Valor Aprovado do procedimento\n",
       "8370               Médico Cirurgião Geral                          3993.0\n",
       "9991               Médico Cirurgião Geral                          3448.5\n",
       "9932               Médico Cirurgião Geral                          3085.5\n",
       "8452               Médico Cirurgião Geral                          2904.0\n",
       "10018              Médico Cirurgião Geral                          2722.5"
      ]
     },
     "execution_count": 18,
     "metadata": {},
     "output_type": "execute_result"
    }
   ],
   "source": [
    "top_values = df['Código do Procedimento Ambulatorial'].unique()\n",
    "top_values.sort()\n",
    "top_5_unique_values = top_values[-5:]\n",
    "\n",
    "# Filtering the DataFrame to only include rows with these top 5 values\n",
    "df_filtered = df[df['Código do Procedimento Ambulatorial'].isin(top_5_unique_values)]\n",
    "\n",
    "# Sorting by 'Valor do procedimento aprovado' to get the top values in order\n",
    "df_sorted = df_filtered.sort_values(by='Valor Aprovado do procedimento', ascending=False)\n",
    "\n",
    "# Dropping duplicates based on 'Valor do procedimento aprovado' to ensure uniqueness\n",
    "df_unique_top = df_sorted.drop_duplicates(subset=['Valor Aprovado do procedimento'], keep='first')\n",
    "\n",
    "# Renaming columns to 'Code' and 'Value'\n",
    "final_df = df_unique_top[['Código do Procedimento Ambulatorial', 'Valor Aprovado do procedimento']]\n",
    "\n",
    "pro_value = final_df.head()\n",
    "\n",
    "# Replacing the specified code with \"Médico Cirurgião\"\n",
    "pro_value['Código do Procedimento Ambulatorial'] = pro_value['Código do Procedimento Ambulatorial'].replace(803010087, 'Médico Cirurgião Geral')\n",
    "\n",
    "pro_value"
   ]
  },
  {
   "cell_type": "markdown",
   "id": "4043a611-2d02-4931-a25e-9dd5f5c7a8d2",
   "metadata": {},
   "source": [
    "### Convert and replace the commas for brazillian pattern"
   ]
  },
  {
   "cell_type": "code",
   "execution_count": 19,
   "id": "ad2668fe-30fb-411a-a86d-e7860e0cb06f",
   "metadata": {},
   "outputs": [
    {
     "name": "stderr",
     "output_type": "stream",
     "text": [
      "C:\\Users\\digui\\AppData\\Local\\Temp\\ipykernel_27820\\4276525710.py:2: SettingWithCopyWarning: \n",
      "A value is trying to be set on a copy of a slice from a DataFrame.\n",
      "Try using .loc[row_indexer,col_indexer] = value instead\n",
      "\n",
      "See the caveats in the documentation: https://pandas.pydata.org/pandas-docs/stable/user_guide/indexing.html#returning-a-view-versus-a-copy\n",
      "  pro_value['Valor Aprovado do procedimento'] = pro_value['Valor Aprovado do procedimento'].apply(lambda x: f\"{x:.1f}\".replace('.', ','))\n"
     ]
    },
    {
     "data": {
      "text/html": [
       "<div>\n",
       "<style scoped>\n",
       "    .dataframe tbody tr th:only-of-type {\n",
       "        vertical-align: middle;\n",
       "    }\n",
       "\n",
       "    .dataframe tbody tr th {\n",
       "        vertical-align: top;\n",
       "    }\n",
       "\n",
       "    .dataframe thead th {\n",
       "        text-align: right;\n",
       "    }\n",
       "</style>\n",
       "<table border=\"1\" class=\"dataframe\">\n",
       "  <thead>\n",
       "    <tr style=\"text-align: right;\">\n",
       "      <th></th>\n",
       "      <th>Código do Procedimento Ambulatorial</th>\n",
       "      <th>Valor Aprovado do procedimento</th>\n",
       "    </tr>\n",
       "  </thead>\n",
       "  <tbody>\n",
       "    <tr>\n",
       "      <th>8370</th>\n",
       "      <td>Médico Cirurgião Geral</td>\n",
       "      <td>3993,0</td>\n",
       "    </tr>\n",
       "    <tr>\n",
       "      <th>9991</th>\n",
       "      <td>Médico Cirurgião Geral</td>\n",
       "      <td>3448,5</td>\n",
       "    </tr>\n",
       "    <tr>\n",
       "      <th>9932</th>\n",
       "      <td>Médico Cirurgião Geral</td>\n",
       "      <td>3085,5</td>\n",
       "    </tr>\n",
       "    <tr>\n",
       "      <th>8452</th>\n",
       "      <td>Médico Cirurgião Geral</td>\n",
       "      <td>2904,0</td>\n",
       "    </tr>\n",
       "    <tr>\n",
       "      <th>10018</th>\n",
       "      <td>Médico Cirurgião Geral</td>\n",
       "      <td>2722,5</td>\n",
       "    </tr>\n",
       "  </tbody>\n",
       "</table>\n",
       "</div>"
      ],
      "text/plain": [
       "      Código do Procedimento Ambulatorial Valor Aprovado do procedimento\n",
       "8370               Médico Cirurgião Geral                         3993,0\n",
       "9991               Médico Cirurgião Geral                         3448,5\n",
       "9932               Médico Cirurgião Geral                         3085,5\n",
       "8452               Médico Cirurgião Geral                         2904,0\n",
       "10018              Médico Cirurgião Geral                         2722,5"
      ]
     },
     "execution_count": 19,
     "metadata": {},
     "output_type": "execute_result"
    }
   ],
   "source": [
    "# Convert and replace\n",
    "pro_value['Valor Aprovado do procedimento'] = pro_value['Valor Aprovado do procedimento'].apply(lambda x: f\"{x:.1f}\".replace('.', ','))\n",
    "pro_value"
   ]
  },
  {
   "cell_type": "markdown",
   "id": "1ce9bd67-0526-4deb-9207-582f162e2083",
   "metadata": {},
   "source": [
    "### Save as a csv file"
   ]
  },
  {
   "cell_type": "code",
   "execution_count": 20,
   "id": "97753c64-3c47-4cb4-ac37-c0a5f22e69c6",
   "metadata": {},
   "outputs": [],
   "source": [
    "pro_value.to_csv('csv/pro_value.csv', index=False, decimal=',')"
   ]
  }
 ],
 "metadata": {
  "kernelspec": {
   "display_name": "Python 3 (Spyder)",
   "language": "python3",
   "name": "python3"
  },
  "language_info": {
   "codemirror_mode": {
    "name": "ipython",
    "version": 3
   },
   "file_extension": ".py",
   "mimetype": "text/x-python",
   "name": "python",
   "nbconvert_exporter": "python",
   "pygments_lexer": "ipython3",
   "version": "3.11.8"
  }
 },
 "nbformat": 4,
 "nbformat_minor": 5
}
